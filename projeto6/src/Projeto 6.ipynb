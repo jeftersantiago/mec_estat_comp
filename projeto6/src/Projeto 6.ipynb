{
 "cells": [
  {
   "cell_type": "markdown",
   "metadata": {},
   "source": [
    "# Dinâmica Molecular"
   ]
  },
  {
   "cell_type": "markdown",
   "metadata": {},
   "source": [
    "# Anotações\n"
   ]
  },
  {
   "cell_type": "markdown",
   "metadata": {},
   "source": [
    "- Comprimento de de Broglie define o regime em que podemos usar mecânica classíca.\n",
    "    $$ \\lambda = \\frac{\\hbar}{p} $$"
   ]
  },
  {
   "cell_type": "markdown",
   "metadata": {},
   "source": [
    "- Potencial  de Lennard-Jonnes: https://en.wikipedia.org/wiki/Lennard-Jones_potential\n",
    "$$ \\mathcal{U}(\\vec{r}) = 4 \\epsilon \\left[ \\left(\\frac{\\sigma}{r} \\right)^12 - \\left(\\frac{\\sigma}{r}\\right)^6 \\right]$$"
   ]
  },
  {
   "cell_type": "markdown",
   "metadata": {},
   "source": [
    "$$ \\frac{\\mathcal{U}}{\\epsilon} = \\tilde{\\mathcal{U}} = 4 \\left[ \\left(\\frac{1}{\\tilde{r}} \\right)^12 - \\left(\\frac{1}{\\tilde{r}}\\right)^6 \\right] $$\n",
    "\n",
    "$$ \\tilde{r} \\equiv \\frac{r}{\\sigma} $$"
   ]
  },
  {
   "cell_type": "markdown",
   "metadata": {},
   "source": [
    "Queremos encontrar o ponto de mínmo no gráfico do potencial de lenner-jonnes"
   ]
  },
  {
   "cell_type": "markdown",
   "metadata": {},
   "source": [
    "$$\n",
    "        \\frac{d \\mathcal{U}}{d r} = \\frac{d(\\epsilon \\tilde{\\mathcal{U}}}{d(\\sigma \\tilde{r})} \\dots\n",
    "$$"
   ]
  },
  {
   "cell_type": "markdown",
   "metadata": {},
   "source": [
    "- Simulação: gás em uma superficie - gás 2D"
   ]
  },
  {
   "cell_type": "markdown",
   "metadata": {},
   "source": [
    "\n",
    "$$\n",
    "\n",
    "    m \\frac{d^2 \\vec{r}_i}{dt^2} = \\sum_{i = 1}^{N} \\sum_{j \\neq i}^{N} \\vec{F}(\\vec{r}_i - \\vec{r}_j) \\frac{(\\vec{r}_i - r\\vec{r}_j)}{|\\vec{r}_i - \\vec{r}_j|}\n",
    "\n",
    "$$\n",
    "\n"
   ]
  },
  {
   "cell_type": "markdown",
   "metadata": {},
   "source": [
    "\n",
    "$$ \\mathcal{U}(\\vec{r}_i - \\vec{r}_j) = 4 \\epsilon \\left[ \\frac{\\sigma^{12}}{|\\vec{r}_i - \\vec{r}_j|^{12}} -\\frac{\\sigma^6}{|\\vec{r}_i - \\vec{r}_j|^6} \\right]$$"
   ]
  },
  {
   "cell_type": "markdown",
   "metadata": {},
   "source": [
    "- Escala de tempo da dinâmica é $t \\sim \\sqrt{m\\sigma^2 / \\epsilon}$\n",
    "($10^-12$ segundos)"
   ]
  },
  {
   "cell_type": "markdown",
   "metadata": {},
   "source": [
    "- Discretização das equações: "
   ]
  },
  {
   "cell_type": "markdown",
   "metadata": {},
   "source": [
    "$$ t = n \\Delta t $$\n",
    "\n",
    "\n",
    "$$\n",
    "    x_i(n+1) = 2 x_i(n) - x_i (n-1) + a_{i, x}(n) (\\Delta t)^2\n",
    "$$\n",
    "\n",
    "\n",
    "$$ \n",
    "    y_i(n+1) = 2y_i(n) - y_i(n-1) + a_{i, y}(n) (\\Delta t)^2\n",
    "$$\n",
    "\n",
    "- Métodos de Euler e o de Verlet.\n",
    "\n",
    "Condições iniciais:\n",
    "\n",
    "$$\n",
    "x(1) = x(0) + v_{j,x} (0) \\Delta t\n",
    "$$\n",
    "$$\n",
    "y(1) = y(0) + v_{j, y} (0) \\Delta t\n",
    "$$\n",
    "\n",
    "\n",
    "$$ \n",
    "\n",
    "    v_{i, x} = \\frac{x_i(n+1) - x_i(n-1)}{2 \\Delta t}\n",
    "$$\n",
    "$$\n",
    "    v_{i, y} = \\frac{y_i(n+1) - y_i(n-1)}{2 \\Delta t}\n",
    "$$\n",
    "\n",
    "\n",
    "\n",
    "-   Simulação com malha quadrada 2D de comprimento $L$ \n",
    "-   Adotamos $\\sqrt{L}$ como número de partículas.\n",
    "-   Inicializa particulas na malha com alguma velocidade inicial.\n",
    "-   Condições periódicas de contorno."
   ]
  },
  {
   "cell_type": "markdown",
   "metadata": {},
   "source": [
    "- Sistema em equílibrio deve obedecer a distribuição de Maxwell-Boltzmann."
   ]
  },
  {
   "cell_type": "markdown",
   "metadata": {},
   "source": [
    "- Desafio: colocar uma molecula maior que as outras e observar o movimento dela durante a dinâmica.\n",
    "Isso é o movimento browniano da partícula.\n",
    "Fazer calculo de valor esperado, media de distancia quadrática para obter distribuição.\n"
   ]
  },
  {
   "cell_type": "markdown",
   "metadata": {},
   "source": [
    "# Gráficos - Análise de resultados"
   ]
  },
  {
   "cell_type": "code",
   "execution_count": null,
   "metadata": {},
   "outputs": [],
   "source": [
    "import numpy as np \n",
    "import matplotlib.pyplot as plt\n",
    "%matplotlib inline\n",
    "\n",
    "# graphs path \n",
    "graphs_path = \"../graficos/\"\n",
    "DPI = 300\n",
    "\n",
    "font = {\n",
    "        'weight' : 'bold',\n",
    "        'size'   : 16}\n",
    "plt.rc('text', usetex=True)\n",
    "plt.rc('text.latex', preamble=r'\\usepackage{amsmath}')\n",
    "plt.rc('font', **font) \n",
    "\n",
    "plt.grid(which = \"major\", linewidth = 0.5)\n",
    "plt.grid(which = \"minor\", linewidth = 0.2)\n",
    "plt.minorticks_on()"
   ]
  },
  {
   "cell_type": "markdown",
   "metadata": {},
   "source": [
    "## Tarefa A "
   ]
  },
  {
   "cell_type": "markdown",
   "metadata": {},
   "source": [
    "## Tarefa B"
   ]
  },
  {
   "cell_type": "markdown",
   "metadata": {},
   "source": [
    "## Tarefa C"
   ]
  },
  {
   "cell_type": "markdown",
   "metadata": {},
   "source": [
    "## Tarefa D "
   ]
  },
  {
   "cell_type": "markdown",
   "metadata": {},
   "source": [
    "## Tarefa E"
   ]
  },
  {
   "cell_type": "markdown",
   "metadata": {},
   "source": [
    "## Tarefa F"
   ]
  }
 ],
 "metadata": {
  "kernelspec": {
   "display_name": "Python 3",
   "language": "python",
   "name": "python3"
  },
  "language_info": {
   "codemirror_mode": {
    "name": "ipython",
    "version": 3
   },
   "file_extension": ".py",
   "mimetype": "text/x-python",
   "name": "python",
   "nbconvert_exporter": "python",
   "pygments_lexer": "ipython3",
   "version": "3.12.3"
  }
 },
 "nbformat": 4,
 "nbformat_minor": 2
}
