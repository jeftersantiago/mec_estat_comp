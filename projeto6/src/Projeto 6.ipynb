{
 "cells": [
  {
   "cell_type": "markdown",
   "metadata": {},
   "source": [
    "# Dinâmica Molecular\n"
   ]
  },
  {
   "cell_type": "markdown",
   "metadata": {},
   "source": [
    "# Anotações\n"
   ]
  },
  {
   "cell_type": "markdown",
   "metadata": {},
   "source": [
    "## Aula 07/06"
   ]
  },
  {
   "cell_type": "markdown",
   "metadata": {},
   "source": [
    "- Comprimento de de Broglie define o regime em que podemos usar mecânica classíca.\n",
    "    $$ \\lambda = \\frac{\\hbar}{p} $$"
   ]
  },
  {
   "cell_type": "markdown",
   "metadata": {},
   "source": [
    "- Potencial  de Lennard-Jonnes: https://en.wikipedia.org/wiki/Lennard-Jones_potential\n",
    "$$ \\mathcal{U}(\\vec{r}) = 4 \\epsilon \\left[ \\left(\\frac{\\sigma}{r} \\right)^{12} - \\left(\\frac{\\sigma}{r}\\right)^6 \\right]$$"
   ]
  },
  {
   "cell_type": "markdown",
   "metadata": {},
   "source": [
    "$$ \\frac{\\mathcal{U}}{\\epsilon} = \\tilde{\\mathcal{U}} = 4 \\left[ \\left(\\frac{1}{\\tilde{r}} \\right)^{12} - \\left(\\frac{1}{\\tilde{r}}\\right)^6 \\right] $$\n",
    "\n",
    "$$ \\tilde{r} \\equiv \\frac{r}{\\sigma} $$"
   ]
  },
  {
   "cell_type": "markdown",
   "metadata": {},
   "source": [
    "Queremos encontrar o ponto de mínmo no gráfico do potencial de lenner-jonnes"
   ]
  },
  {
   "cell_type": "markdown",
   "metadata": {},
   "source": [
    "$$\n",
    "        \\frac{d \\mathcal{U}}{d r} = \\frac{d(\\epsilon \\tilde{\\mathcal{U}}}{d(\\sigma \\tilde{r})} \\dots\n",
    "$$"
   ]
  },
  {
   "cell_type": "markdown",
   "metadata": {},
   "source": [
    "- Simulação: gás em uma superficie - gás 2D"
   ]
  },
  {
   "cell_type": "markdown",
   "metadata": {},
   "source": [
    "\n",
    "$$\n",
    "\n",
    "    m \\frac{d^2 \\vec{r}_i}{dt^2} = \\sum_{i = 1}^{N} \\sum_{j \\neq i}^{N} \\vec{F}(\\vec{r}_i - \\vec{r}_j) \\frac{(\\vec{r}_i - \\vec{r}_j)}{|\\vec{r}_i - \\vec{r}_j|}\n",
    "\n",
    "$$\n",
    "\n"
   ]
  },
  {
   "cell_type": "markdown",
   "metadata": {},
   "source": [
    "\n",
    "$$ \\mathcal{U}(\\vec{r}_i - \\vec{r}_j) = 4 \\epsilon \\left[ \\frac{\\sigma^{12}}{|\\vec{r}_i - \\vec{r}_j|^{12}} -\\frac{\\sigma^6}{|\\vec{r}_i - \\vec{r}_j|^6} \\right]$$"
   ]
  },
  {
   "cell_type": "markdown",
   "metadata": {},
   "source": [
    "- Escala de tempo da dinâmica é $t \\sim \\sqrt{m\\sigma^2 / \\epsilon}$\n",
    "($10^-12$ segundos)"
   ]
  },
  {
   "cell_type": "markdown",
   "metadata": {},
   "source": [
    "- Discretização das equações: "
   ]
  },
  {
   "cell_type": "markdown",
   "metadata": {},
   "source": [
    "$$ t = n \\Delta t $$\n",
    "\n",
    "\n",
    "$$\n",
    "    x_i(n+1) = 2 x_i(n) - x_i (n-1) + a_{i, x}(n) (\\Delta t)^2\n",
    "$$\n",
    "\n",
    "\n",
    "$$ \n",
    "    y_i(n+1) = 2y_i(n) - y_i(n-1) + a_{i, y}(n) (\\Delta t)^2\n",
    "$$\n",
    "\n",
    "- Métodos de Euler e o de Verlet.\n",
    "\n",
    "Condições iniciais:\n",
    "\n",
    "$$\n",
    "x(1) = x(0) + v_{j,x} (0) \\Delta t\n",
    "$$\n",
    "$$\n",
    "y(1) = y(0) + v_{j, y} (0) \\Delta t\n",
    "$$\n",
    "\n",
    "\n",
    "$$ \n",
    "\n",
    "    v_{i, x} = \\frac{x_i(n+1) - x_i(n-1)}{2 \\Delta t}\n",
    "$$\n",
    "$$\n",
    "    v_{i, y} = \\frac{y_i(n+1) - y_i(n-1)}{2 \\Delta t}\n",
    "$$\n",
    "\n",
    "\n",
    "\n",
    "-   Simulação com malha quadrada 2D de comprimento $L$ \n",
    "-   Adotamos $\\sqrt{L}$ como número de partículas.\n",
    "-   Inicializa particulas na malha com alguma velocidade inicial.\n",
    "-   Condições periódicas de contorno."
   ]
  },
  {
   "cell_type": "markdown",
   "metadata": {},
   "source": [
    "- Sistema em equílibrio deve obedecer a distribuição de Maxwell-Boltzmann."
   ]
  },
  {
   "cell_type": "markdown",
   "metadata": {},
   "source": [
    "- Desafio: colocar uma molecula maior que as outras e observar o movimento dela durante a dinâmica.\n",
    "Isso é o movimento browniano da partícula.\n",
    "Fazer calculo de valor esperado, media de distancia quadrática para obter distribuição.\n"
   ]
  },
  {
   "cell_type": "markdown",
   "metadata": {},
   "source": [
    "## Derivando as relações 14/06"
   ]
  },
  {
   "cell_type": "markdown",
   "metadata": {},
   "source": [
    "Partindo da segunda lei de Newton \n",
    "\n",
    "$$ m \\frac{d^2}{dt^2} \\vec{r} = \\vec{F} = |F| \\frac{\\hat{r}}{|r|} $$"
   ]
  },
  {
   "cell_type": "markdown",
   "metadata": {},
   "source": [
    "para sistema com $N$ partículas interagindo temos \n"
   ]
  },
  {
   "cell_type": "markdown",
   "metadata": {},
   "source": [
    "$$ m \\frac{d^2}{dt^2} \\vec{r}_j = \\sum_{j=1}^{N} \\sum_{\\ell \\neq j}^{N} F(|\\vec{r}_j - \\vec{r}_{\\ell}|)\\frac{\\vec{r}_j - \\vec{r}_\\ell}{|\\vec{r}_{j} - \\vec{r}_\\ell|} $$"
   ]
  },
  {
   "cell_type": "markdown",
   "metadata": {},
   "source": [
    "com $\\vec{r}_j = (x_j, y_j)$  e $|\\vec{r}_j - \\vec{r}_\\ell| = \\sqrt{(x_j-x_\\ell)^2 - (y_j-y_\\ell)^2} = r_{j, \\ell}$."
   ]
  },
  {
   "cell_type": "markdown",
   "metadata": {},
   "source": [
    "como $F$ é uma força central em cada interação das partículas pode ser dada por \n",
    "$$ F(r_{j, \\ell}) = - \\frac{\\partial \\mathcal{U}}{\\partial r_{j, \\ell}} $$\n"
   ]
  },
  {
   "cell_type": "markdown",
   "metadata": {},
   "source": [
    "definindo $\\sigma = \\varepsilon = 1$ podemos obter as grandezas pro sistema em unidades de \n",
    "$m, \\epsilon$ e $\\sigma$. Isso vai simplificar os cálculos. Então \n",
    "a força exercida pela particula $j$ na $\\ell$ pode ser obtida com "
   ]
  },
  {
   "cell_type": "markdown",
   "metadata": {},
   "source": [
    "$$\n",
    "    F_{j, \\ell} = 24 \\left( \\frac{2}{r_{j, \\ell}^{13}} - \\frac{1}{r_{j, \\ell}^7} \\right)\n",
    "$$\n",
    "\n",
    "\n",
    "e a força que $\\ell$ exerce em $j$ é simplesmente \n",
    "\n",
    "$$\n",
    "    F_{\\ell, j} = - F_{j, \\ell}\n",
    "$$"
   ]
  },
  {
   "cell_type": "markdown",
   "metadata": {},
   "source": [
    "#### Discretização do sistema\n"
   ]
  },
  {
   "cell_type": "markdown",
   "metadata": {},
   "source": [
    "$$ \\frac{d^2}{dt^2} \\vec{r}_j = \\frac{1}{m}  $$"
   ]
  },
  {
   "cell_type": "markdown",
   "metadata": {},
   "source": [
    "$$\n",
    "    a^{x}_{j} = \\frac{1}{m} \\sum_{j = 1}^{N} \\sum_{\\ell \\neq j}^{N} F_{j, \\ell} \\cos(\\theta_{j, \\ell})\n",
    "$$\n",
    "$$\n",
    "    a^{y}_{j} = \\frac{1}{m} \\sum_{j = 1}^{N} \\sum_{\\ell \\neq j}^{N} F_{j, \\ell} \\sin(\\theta_{j, \\ell})\n",
    "$$"
   ]
  },
  {
   "cell_type": "markdown",
   "metadata": {},
   "source": [
    "No nosso sistema de unidades com $ m = 1 $ temos \n",
    "\n",
    "$$\n",
    "    a^{x}_{j} = \\sum_{j = 1}^{N} \\sum_{\\ell \\neq j}^{N} F_{j, \\ell} \\cos(\\theta_{j, \\ell})\n",
    "$$\n",
    "$$\n",
    "    a^{y}_{j} = \\sum_{j = 1}^{N} \\sum_{\\ell \\neq j}^{N} F_{j, \\ell} \\sin(\\theta_{j, \\ell})\n",
    "$$"
   ]
  },
  {
   "cell_type": "markdown",
   "metadata": {},
   "source": [
    "+ Método de Verlet:\n",
    "- Posição e velocidade das partículas à cada passo $t = n \\Delta t$:\n",
    "\n",
    "Para $n \\geq 1$ \n",
    "$$  x_{j}(n+1) = 2 x_j(n) - x_j(n-1)+ a_j^x(n) (\\Delta t)^2  $$\n",
    "$$  y_{j}(n+1) = 2 y_j(n) - y_j(n-1)+ a_j^y(n) (\\Delta t)^2  $$\n",
    "\n",
    "\n",
    "Posições iniciais: \n",
    "\n",
    "$$ x_j (1) = x(0) + v_{j}^x (0) \\Delta t $$\n",
    "$$ y_j (1) = y(0) + v_{j}^y (0) \\Delta t $$\n",
    "\n",
    "onde $x(0)$ e $y(0)$ é a posição inicial de todas as partículas.\n",
    "\n",
    "\n",
    "Velocidade iniciais:\n",
    "\n",
    "$$ v_{j}^x = \\frac{x_j (n + 1) - x_j (n - 1)}{2 \\Delta t} $$\n",
    "$$ v_{j}^y = \\frac{y_j (n + 1) - y_j (n - 1)}{2 \\Delta t} $$\n",
    "\n",
    "\n"
   ]
  },
  {
   "cell_type": "markdown",
   "metadata": {},
   "source": []
  },
  {
   "cell_type": "markdown",
   "metadata": {},
   "source": []
  },
  {
   "cell_type": "markdown",
   "metadata": {},
   "source": [
    "# Detalhes de implementação"
   ]
  },
  {
   "cell_type": "markdown",
   "metadata": {},
   "source": [
    "### Tarefa A"
   ]
  },
  {
   "cell_type": "markdown",
   "metadata": {},
   "source": [
    "- Dimensão da caixa: $L = 10$.\n",
    "- Número de partículas $N = 20$.\n",
    "- Velocidade inicial das partículas $v_0 = 1$.\n",
    "- Tamanho do passo $\\Delta t = 0.02$.\n",
    "\n",
    "- Pede-se para graficar coordenadas das partículas à cada $3 \\Delta t$.\n",
    "\n",
    "- Determinando um tempo total de evolução $\\tau = 100 \\Delta t$ ."
   ]
  },
  {
   "cell_type": "markdown",
   "metadata": {},
   "source": [
    "#### Inicialização "
   ]
  },
  {
   "cell_type": "markdown",
   "metadata": {},
   "source": [
    "-   $N = 20$ partículas em posições aleatórias da rede com espaçamento $L / \\sqrt{N}$ \n",
    "\n",
    "\n",
    "\n"
   ]
  },
  {
   "cell_type": "markdown",
   "metadata": {},
   "source": [
    "- Cálculo das acelerações (~ ou força): \n",
    "\n",
    "\n",
    "\n"
   ]
  },
  {
   "cell_type": "markdown",
   "metadata": {},
   "source": [
    "Com $ m = 1 $: \n",
    "\n",
    "$$\n",
    "    a^{x}_{j} = \\sum_{j = 1}^{N} \\sum_{\\ell \\neq j}^{N} F_{j, \\ell} \\cos(\\theta_{j, \\ell})\n",
    "$$\n",
    "$$\n",
    "    a^{y}_{j} = \\sum_{j = 1}^{N} \\sum_{\\ell \\neq j}^{N} F_{j, \\ell} \\sin(\\theta_{j, \\ell})\n",
    "$$"
   ]
  },
  {
   "cell_type": "markdown",
   "metadata": {},
   "source": [
    "$dx_{j, \\ell} = (x_j - x_\\ell)$ e $dy_{j, \\ell} = (y_j - y_\\ell)$ segue que $d_{j, \\ell} = \\sqrt{dx_{j, \\ell}^2 + dy_{j, \\ell}^2}$"
   ]
  },
  {
   "cell_type": "markdown",
   "metadata": {},
   "source": [
    "assim temos uma forma para calcular os senos e cossenos de $\\theta_{j, \\ell}$ \n"
   ]
  },
  {
   "cell_type": "markdown",
   "metadata": {},
   "source": [
    "$$ \\sin(\\theta_{j, \\ell}) = \\frac{dy_{j, \\ell}}{d_{j, \\ell}} $$\n",
    "\n",
    "$$ \\cos(\\theta_{j, \\ell}) = \\frac{dx_{j, \\ell}}{d_{j, \\ell}} $$"
   ]
  },
  {
   "cell_type": "markdown",
   "metadata": {},
   "source": [
    "https://en.wikipedia.org/wiki/Periodic_boundary_conditions#:~:text=The%20minimum%2Dimage%20convention%20is,remaining%20particles%20in%20the%20system."
   ]
  },
  {
   "cell_type": "markdown",
   "metadata": {},
   "source": []
  },
  {
   "cell_type": "markdown",
   "metadata": {},
   "source": []
  },
  {
   "cell_type": "markdown",
   "metadata": {},
   "source": []
  },
  {
   "cell_type": "markdown",
   "metadata": {},
   "source": [
    "# Gráficos - Análise de resultados"
   ]
  },
  {
   "cell_type": "code",
   "execution_count": 1,
   "metadata": {},
   "outputs": [],
   "source": [
    "import numpy as np \n",
    "import matplotlib.pyplot as plt\n",
    "%matplotlib inline\n",
    "\n",
    "# graphs path \n",
    "graphs_path = \"../graficos/\"\n",
    "DPI = 300\n",
    "\n",
    "font = {\n",
    "        'weight' : 'bold',\n",
    "        'size'   : 16}\n",
    "plt.rc('text', usetex=True)\n",
    "plt.rc('text.latex', preamble=r'\\usepackage{amsmath}')\n",
    "plt.rc('font', **font) \n",
    "# \n",
    "# plt.grid(which = \"major\", linewidth = 0.5)\n",
    "# plt.grid(which = \"minor\", linewidth = 0.2)\n",
    "# plt.minorticks_on()"
   ]
  },
  {
   "cell_type": "markdown",
   "metadata": {},
   "source": [
    "## Tarefa A "
   ]
  },
  {
   "cell_type": "code",
   "execution_count": 15,
   "metadata": {},
   "outputs": [
    {
     "data": {
      "text/plain": [
       "[<matplotlib.lines.Line2D at 0x745335da3020>]"
      ]
     },
     "execution_count": 15,
     "metadata": {},
     "output_type": "execute_result"
    },
    {
     "data": {
      "image/png": "[encoded data removed]",
      "text/plain": [
       "<Figure size 500x500 with 1 Axes>"
      ]
     },
     "metadata": {},
     "output_type": "display_data"
    }
   ],
   "source": [
    "data = np.loadtxt(\"posicoes_iniciais.dat\")\n",
    "\n",
    "X = np.linspace(0, 10, data.shape[0])\n",
    "Y = np.linspace(0, 10, data.shape[0])\n",
    "\n",
    "fig, ax = plt.subplots(1, 1, figsize=(5, 5), facecolor=\"lightgray\")\n",
    "\n",
    "plt.xlim(0, 10)\n",
    "plt.ylim(0, 10)\n",
    "\n",
    "plt.grid(which = \"major\", linewidth = 0.3)\n",
    "plt.grid(which = \"minor\", linewidth = 0.3)\n",
    "plt.minorticks_on()\n",
    "\n",
    "plt.plot(data[:, 0], data[:, 1], color='black',marker='o',markersize=10, markerfacecolor='white',linestyle='')"
   ]
  },
  {
   "cell_type": "code",
   "execution_count": 9,
   "metadata": {},
   "outputs": [
    {
     "name": "stderr",
     "output_type": "stream",
     "text": [
      "/tmp/ipykernel_325953/92258222.py:18: UserWarning: marker is redundantly defined by the 'marker' keyword argument and the fmt string \"bo\" (-> marker='o'). The keyword argument will take precedence.\n",
      "  particles, = ax.plot([], [], 'bo', color='black',marker='o',markerfacecolor='white',linestyle='',markersize=15)\n",
      "/tmp/ipykernel_325953/92258222.py:18: UserWarning: color is redundantly defined by the 'color' keyword argument and the fmt string \"bo\" (-> color='b'). The keyword argument will take precedence.\n",
      "  particles, = ax.plot([], [], 'bo', color='black',marker='o',markerfacecolor='white',linestyle='',markersize=15)\n",
      "MovieWriter imagemagick unavailable; using Pillow instead.\n"
     ]
    },
    {
     "data": {
      "image/png": "[encoded data removed]",
      "text/plain": [
       "<Figure size 500x500 with 1 Axes>"
      ]
     },
     "metadata": {},
     "output_type": "display_data"
    }
   ],
   "source": [
    "import numpy as np\n",
    "import matplotlib.pyplot as plt\n",
    "import matplotlib.animation as animation\n",
    "\n",
    "# Read the data from the file\n",
    "filename = 'system_state.dat'\n",
    "data = np.loadtxt(filename)\n",
    "\n",
    "# Number of particles and time steps\n",
    "num_particles = 20\n",
    "num_timesteps = data.shape[0] // num_particles\n",
    "\n",
    "# Reshape the data to separate time steps and particles\n",
    "data = data.reshape((num_timesteps, num_particles, -1))\n",
    "\n",
    "# Set up the figure and axis\n",
    "fig, ax = plt.subplots(1, 1, figsize=(5,5), facecolor=\"lightgray\")\n",
    "particles, = ax.plot([], [], 'bo', color='black',marker='o',markerfacecolor='white',linestyle='',markersize=15)\n",
    "\n",
    "\n",
    "plt.grid(which = \"major\", linewidth = 0.3)\n",
    "plt.grid(which = \"minor\", linewidth = 0.3)\n",
    "plt.minorticks_on()\n",
    "\n",
    "# Set the limits of the plot\n",
    "ax.set_xlim(0, 10)  # Adjust according to your data range\n",
    "ax.set_ylim(0, 10)  # Adjust according to your data range\n",
    "\n",
    "def init():\n",
    "    \"\"\"Initialize the background of the plot.\"\"\"\n",
    "    particles.set_data([], [])\n",
    "    return particles,\n",
    "\n",
    "def animate(i):\n",
    "    \"\"\"Update the plot for each frame.\"\"\"\n",
    "    x = data[i, :, 0]\n",
    "    y = data[i, :, 1]\n",
    "    particles.set_data(x, y)\n",
    "    return particles,\n",
    "\n",
    "# Create the animation\n",
    "ani = animation.FuncAnimation(fig, animate, frames=num_timesteps, init_func=init, blit=True)\n",
    "\n",
    "# Save the animation as a GIF\n",
    "ani.save('particle_simulation.gif', writer='imagemagick', dpi=100)\n",
    "# ani.save('particle_simulation.mp4', writer='ffmpeg', dpi=DPI)"
   ]
  },
  {
   "cell_type": "code",
   "execution_count": 5,
   "metadata": {},
   "outputs": [],
   "source": [
    "import numpy as np\n",
    "\n",
    "# Parameters\n",
    "pi = np.arccos(-1.0)\n",
    "L = 10\n",
    "N = 20\n",
    "dt = 0.02\n",
    "v0 = 1.0\n",
    "np.random.seed(1949412)\n",
    "\n",
    "# Arrays\n",
    "r_prev = np.zeros((N, 2))\n",
    "r_curr = np.zeros((N, 2))\n",
    "r_next = np.zeros((N, 2))\n",
    "a = np.zeros(2)\n",
    "v = np.zeros((N, 2))\n",
    "\n",
    "isq = np.sqrt(1.0 * N)\n",
    "spacing = L / isq\n",
    "\n",
    "# Initial positions\n",
    "with open(\"posicoes_iniciais.dat\", \"w\") as f1, open(\"posicoes_iniciais_old.dat\", \"w\") as f2:\n",
    "    for i in range(N):\n",
    "        x = (i % isq) * spacing + spacing\n",
    "        y = np.ceil((1.0 * i) / isq) * spacing - 0.5 * spacing\n",
    "\n",
    "        x += (0.25 * spacing) * (1.0 - 0.5 * np.random.rand())\n",
    "        y += (0.25 * spacing) * (1.0 - 0.5 * np.random.rand())\n",
    "\n",
    "        theta = 2 * pi * np.random.rand()\n",
    "\n",
    "        v[i, 0] = v0 * np.cos(theta)\n",
    "        v[i, 1] = v0 * np.sin(theta)\n",
    "\n",
    "        r_curr[i, 0] = x\n",
    "        r_curr[i, 1] = y\n",
    "\n",
    "        r_prev[i, 0] = r_curr[i, 0] + v[i, 0] * dt\n",
    "        r_prev[i, 1] = r_curr[i, 1] + v[i, 1] * dt\n",
    "\n",
    "        f1.write(f\"{r_curr[i, 0]} {r_curr[i, 1]}\\n\")\n",
    "        f2.write(f\"{r_prev[i, 0]} {r_prev[i, 1]}\\n\")\n",
    "\n",
    "# Write initial velocities and positions to files\n",
    "with open(\"system_velocity.dat\", \"w\") as f3, open(\"system_state.dat\", \"w\") as f4:\n",
    "    for i in range(N):\n",
    "        f3.write(f\"{v[i, 0]} {v[i, 1]}\\n\")\n",
    "        f4.write(f\"{r_curr[i, 0]} {r_curr[i, 1]}\\n\")\n",
    "\n",
    "def compute_acceleration(N, i, j, L, r_curr, a):\n",
    "    dx = r_curr[i, 0] - r_curr[j, 0]\n",
    "    dy = r_curr[i, 1] - r_curr[j, 1]\n",
    "\n",
    "    dx -= L * np.floor(dx / (L / 2))\n",
    "    dy -= L * np.floor(dy / (L / 2))\n",
    "\n",
    "    dist = np.sqrt(dx**2 + dy**2)\n",
    "\n",
    "    if dist < 3.0:\n",
    "        acc = 24.0 * (2.0 / dist**13 - 1.0 / dist**7)\n",
    "        a[0] += acc * dx / dist\n",
    "        a[1] += acc * dy / dist\n",
    "    else:\n",
    "        a[0] = 0\n",
    "        a[1] = 0\n",
    "\n",
    "\n",
    "for k in range(400):\n",
    "    t = k * dt\n",
    "    for i in range(N):\n",
    "        a[0] = 0\n",
    "        a[1] = 0\n",
    "        for j in range(N):\n",
    "            if j != i:\n",
    "                compute_acceleration(N, i, j, L, r_curr, a)\n",
    "                r_next[i, 0] = 2 * r_curr[i, 0] - r_prev[i, 0] + a[0] * dt ** 2\n",
    "                r_next[i, 1] = 2 * r_curr[i, 1] - r_prev[i, 1] + a[1] * dt ** 2\n",
    "\n",
    "        # Update positions\n",
    "        r_prev[i, 0] = r_curr[i, 0]\n",
    "        r_prev[i, 1] = r_curr[i, 1]\n",
    "\n",
    "        r_curr[i, 0] = r_next[i, 0] % L\n",
    "        r_curr[i, 1] = r_next[i, 1] % L\n",
    "\n",
    "        # Update velocities\n",
    "        v[i, 0] = (r_curr[i, 0] - r_prev[i, 0]) / (2 * dt)\n",
    "        v[i, 1] = (r_curr[i, 1] - r_prev[i, 1]) / (2 * dt)\n",
    "\n",
    "    if k % 3 == 0:\n",
    "        with open(\"system_velocity.dat\", \"a\") as f3, open(\"system_state.dat\", \"a\") as f4:\n",
    "            for i in range(N):\n",
    "                f3.write(f\"{v[i, 0]} {v[i, 1]}\\n\")\n",
    "                f4.write(f\"{r_curr[i, 0]} {r_curr[i, 1]}\\n\")\n"
   ]
  },
  {
   "cell_type": "code",
   "execution_count": 7,
   "metadata": {},
   "outputs": [
    {
     "name": "stderr",
     "output_type": "stream",
     "text": [
      "MovieWriter imagemagick unavailable; using Pillow instead.\n"
     ]
    },
    {
     "data": {
      "image/png": "[encoded data removed]",
      "text/plain": [
       "<Figure size 500x500 with 1 Axes>"
      ]
     },
     "metadata": {},
     "output_type": "display_data"
    }
   ],
   "source": [
    "import numpy as np\n",
    "import matplotlib.pyplot as plt\n",
    "import matplotlib.animation as animation\n",
    "\n",
    "# Read the data from the file\n",
    "filename = 'system_state.dat'\n",
    "data = np.loadtxt(filename)\n",
    "\n",
    "# Number of particles and time steps\n",
    "num_particles = 20\n",
    "num_timesteps = data.shape[0] // num_particles\n",
    "\n",
    "# Reshape the data to separate time steps and particles\n",
    "data = data.reshape((num_timesteps, num_particles, -1))\n",
    "\n",
    "# Set up the figure and axis\n",
    "fig, ax = plt.subplots(1, 1, figsize=(5, 5), facecolor=\"lightgray\")\n",
    "scat = ax.scatter([], [], s=100, edgecolor='black')\n",
    "\n",
    "# Generate different colors for each particle\n",
    "colors = plt.cm.jet(np.linspace(0, 1, num_particles))\n",
    "\n",
    "plt.grid(which=\"major\", linewidth=0.3)\n",
    "plt.grid(which=\"minor\", linewidth=0.3)\n",
    "plt.minorticks_on()\n",
    "\n",
    "# Set the limits of the plot\n",
    "ax.set_xlim(0, 10)  # Adjust according to your data range\n",
    "ax.set_ylim(0, 10)  # Adjust according to your data range\n",
    "\n",
    "def init():\n",
    "    \"\"\"Initialize the background of the plot.\"\"\"\n",
    "    scat.set_offsets(np.empty((0, 2)))\n",
    "    return scat,\n",
    "\n",
    "def animate(i):\n",
    "    \"\"\"Update the plot for each frame.\"\"\"\n",
    "    x = data[i, :, 0]\n",
    "    y = data[i, :, 1]\n",
    "    offsets = np.column_stack((x, y))\n",
    "    scat.set_offsets(offsets)\n",
    "    scat.set_facecolor(colors)\n",
    "    return scat,\n",
    "    \n",
    "# Create the animation\n",
    "ani = animation.FuncAnimation(fig, animate, frames=num_timesteps, init_func=init, blit=True)\n",
    "\n",
    "# Save the animation as a GIF\n",
    "ani.save('particle_simulation.gif', writer='imagemagick', dpi=100)\n",
    "\n",
    "# Show the plot\n",
    "plt.show()\n"
   ]
  },
  {
   "cell_type": "markdown",
   "metadata": {},
   "source": [
    "## Tarefa B"
   ]
  },
  {
   "cell_type": "markdown",
   "metadata": {},
   "source": [
    "## Tarefa C"
   ]
  },
  {
   "cell_type": "markdown",
   "metadata": {},
   "source": [
    "## Tarefa D "
   ]
  },
  {
   "cell_type": "markdown",
   "metadata": {},
   "source": [
    "## Tarefa E"
   ]
  },
  {
   "cell_type": "markdown",
   "metadata": {},
   "source": [
    "## Tarefa F"
   ]
  }
 ],
 "metadata": {
  "kernelspec": {
   "display_name": "Python 3",
   "language": "python",
   "name": "python3"
  },
  "language_info": {
   "codemirror_mode": {
    "name": "ipython",
    "version": 3
   },
   "file_extension": ".py",
   "mimetype": "text/x-python",
   "name": "python",
   "nbconvert_exporter": "python",
   "pygments_lexer": "ipython3",
   "version": "3.12.3"
  }
 },
 "nbformat": 4,
 "nbformat_minor": 2
}
