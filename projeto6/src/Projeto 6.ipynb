{
 "cells": [
  {
   "cell_type": "markdown",
   "metadata": {},
   "source": [
    "# Dinâmica Molecular\n"
   ]
  },
  {
   "cell_type": "markdown",
   "metadata": {},
   "source": [
    "# Anotações\n"
   ]
  },
  {
   "cell_type": "markdown",
   "metadata": {},
   "source": [
    "## Aula 07/06"
   ]
  },
  {
   "cell_type": "markdown",
   "metadata": {},
   "source": [
    "- Comprimento de de Broglie define o regime em que podemos usar mecânica classíca.\n",
    "    $$ \\lambda = \\frac{\\hbar}{p} $$"
   ]
  },
  {
   "cell_type": "markdown",
   "metadata": {},
   "source": [
    "- Potencial  de Lennard-Jonnes: https://en.wikipedia.org/wiki/Lennard-Jones_potential\n",
    "$$ \\mathcal{U}(\\vec{r}) = 4 \\epsilon \\left[ \\left(\\frac{\\sigma}{r} \\right)^{12} - \\left(\\frac{\\sigma}{r}\\right)^6 \\right]$$"
   ]
  },
  {
   "cell_type": "markdown",
   "metadata": {},
   "source": [
    "$$ \\frac{\\mathcal{U}}{\\epsilon} = \\tilde{\\mathcal{U}} = 4 \\left[ \\left(\\frac{1}{\\tilde{r}} \\right)^{12} - \\left(\\frac{1}{\\tilde{r}}\\right)^6 \\right] $$\n",
    "\n",
    "$$ \\tilde{r} \\equiv \\frac{r}{\\sigma} $$"
   ]
  },
  {
   "cell_type": "markdown",
   "metadata": {},
   "source": [
    "Queremos encontrar o ponto de mínmo no gráfico do potencial de lenner-jonnes"
   ]
  },
  {
   "cell_type": "markdown",
   "metadata": {},
   "source": [
    "$$\n",
    "        \\frac{d \\mathcal{U}}{d r} = \\frac{d(\\epsilon \\tilde{\\mathcal{U}}}{d(\\sigma \\tilde{r})} \\dots\n",
    "$$"
   ]
  },
  {
   "cell_type": "markdown",
   "metadata": {},
   "source": [
    "- Simulação: gás em uma superficie - gás 2D"
   ]
  },
  {
   "cell_type": "markdown",
   "metadata": {},
   "source": [
    "\n",
    "$$\n",
    "\n",
    "    m \\frac{d^2 \\vec{r}_i}{dt^2} = \\sum_{i = 1}^{N} \\sum_{j \\neq i}^{N} \\vec{F}(\\vec{r}_i - \\vec{r}_j) \\frac{(\\vec{r}_i - \\vec{r}_j)}{|\\vec{r}_i - \\vec{r}_j|}\n",
    "\n",
    "$$\n",
    "\n"
   ]
  },
  {
   "cell_type": "markdown",
   "metadata": {},
   "source": [
    "\n",
    "$$ \\mathcal{U}(\\vec{r}_i - \\vec{r}_j) = 4 \\epsilon \\left[ \\frac{\\sigma^{12}}{|\\vec{r}_i - \\vec{r}_j|^{12}} -\\frac{\\sigma^6}{|\\vec{r}_i - \\vec{r}_j|^6} \\right]$$"
   ]
  },
  {
   "cell_type": "markdown",
   "metadata": {},
   "source": [
    "- Escala de tempo da dinâmica é $t \\sim \\sqrt{m\\sigma^2 / \\epsilon}$\n",
    "($10^-12$ segundos)"
   ]
  },
  {
   "cell_type": "markdown",
   "metadata": {},
   "source": [
    "- Discretização das equações: "
   ]
  },
  {
   "cell_type": "markdown",
   "metadata": {},
   "source": [
    "$$ t = n \\Delta t $$\n",
    "\n",
    "\n",
    "$$\n",
    "    x_i(n+1) = 2 x_i(n) - x_i (n-1) + a_{i, x}(n) (\\Delta t)^2\n",
    "$$\n",
    "\n",
    "\n",
    "$$ \n",
    "    y_i(n+1) = 2y_i(n) - y_i(n-1) + a_{i, y}(n) (\\Delta t)^2\n",
    "$$\n",
    "\n",
    "- Métodos de Euler e o de Verlet.\n",
    "\n",
    "Condições iniciais:\n",
    "\n",
    "$$\n",
    "x(1) = x(0) + v_{j,x} (0) \\Delta t\n",
    "$$\n",
    "$$\n",
    "y(1) = y(0) + v_{j, y} (0) \\Delta t\n",
    "$$\n",
    "\n",
    "\n",
    "$$ \n",
    "\n",
    "    v_{i, x} = \\frac{x_i(n+1) - x_i(n-1)}{2 \\Delta t}\n",
    "$$\n",
    "$$\n",
    "    v_{i, y} = \\frac{y_i(n+1) - y_i(n-1)}{2 \\Delta t}\n",
    "$$\n",
    "\n",
    "\n",
    "\n",
    "-   Simulação com malha quadrada 2D de comprimento $L$ \n",
    "-   Adotamos $\\sqrt{L}$ como número de partículas.\n",
    "-   Inicializa particulas na malha com alguma velocidade inicial.\n",
    "-   Condições periódicas de contorno."
   ]
  },
  {
   "cell_type": "markdown",
   "metadata": {},
   "source": [
    "- Sistema em equílibrio deve obedecer a distribuição de Maxwell-Boltzmann."
   ]
  },
  {
   "cell_type": "markdown",
   "metadata": {},
   "source": [
    "- Desafio: colocar uma molecula maior que as outras e observar o movimento dela durante a dinâmica.\n",
    "Isso é o movimento browniano da partícula.\n",
    "Fazer calculo de valor esperado, media de distancia quadrática para obter distribuição.\n"
   ]
  },
  {
   "cell_type": "markdown",
   "metadata": {},
   "source": [
    "## Derivando as relações 14/06"
   ]
  },
  {
   "cell_type": "markdown",
   "metadata": {},
   "source": [
    "Partindo da segunda lei de Newton \n",
    "\n",
    "$$ m \\frac{d^2}{dt^2} \\vec{r} = \\vec{F} = |F| \\frac{\\hat{r}}{|r|} $$"
   ]
  },
  {
   "cell_type": "markdown",
   "metadata": {},
   "source": [
    "para sistema com $N$ partículas interagindo temos \n"
   ]
  },
  {
   "cell_type": "markdown",
   "metadata": {},
   "source": [
    "$$ m \\frac{d^2}{dt^2} \\vec{r}_j = \\sum_{j=1}^{N} \\sum_{\\ell \\neq j}^{N} F(|\\vec{r}_j - \\vec{r}_{\\ell}|)\\frac{\\vec{r}_j - \\vec{r}_\\ell}{|\\vec{r}_{j} - \\vec{r}_\\ell|} $$"
   ]
  },
  {
   "cell_type": "markdown",
   "metadata": {},
   "source": [
    "com $\\vec{r}_j = (x_j, y_j)$  e $|\\vec{r}_j - \\vec{r}_\\ell| = \\sqrt{(x_j-x_\\ell)^2 - (y_j-y_\\ell)^2} = r_{j, \\ell}$."
   ]
  },
  {
   "cell_type": "markdown",
   "metadata": {},
   "source": [
    "como $F$ é uma força central em cada interação das partículas pode ser dada por \n",
    "$$ F(r_{j, \\ell}) = - \\frac{\\partial \\mathcal{U}}{\\partial r_{j, \\ell}} $$\n"
   ]
  },
  {
   "cell_type": "markdown",
   "metadata": {},
   "source": [
    "definindo $\\sigma = \\varepsilon = 1$ podemos obter as grandezas pro sistema em unidades de \n",
    "$m, \\epsilon$ e $\\sigma$. Isso vai simplificar os cálculos. Então \n",
    "a força exercida pela particula $j$ na $\\ell$ pode ser obtida com "
   ]
  },
  {
   "cell_type": "markdown",
   "metadata": {},
   "source": [
    "$$\n",
    "    F_{j, \\ell} = 24 \\left( \\frac{2}{r_{j, \\ell}^{13}} - \\frac{1}{r_{j, \\ell}^7} \\right)\n",
    "$$\n",
    "\n",
    "\n",
    "e a força que $\\ell$ exerce em $j$ é simplesmente \n",
    "\n",
    "$$\n",
    "    F_{\\ell, j} = - F_{j, \\ell}\n",
    "$$"
   ]
  },
  {
   "cell_type": "markdown",
   "metadata": {},
   "source": [
    "#### Discretização do sistema\n"
   ]
  },
  {
   "cell_type": "markdown",
   "metadata": {},
   "source": [
    "$$ \\frac{d^2}{dt^2} \\vec{r}_j = \\frac{1}{m}  $$"
   ]
  },
  {
   "cell_type": "markdown",
   "metadata": {},
   "source": [
    "$$\n",
    "    a^{x}_{j} = \\frac{1}{m} \\sum_{j = 1}^{N} \\sum_{\\ell \\neq j}^{N} F_{j, \\ell} \\cos(\\theta_{j, \\ell})\n",
    "$$\n",
    "$$\n",
    "    a^{y}_{j} = \\frac{1}{m} \\sum_{j = 1}^{N} \\sum_{\\ell \\neq j}^{N} F_{j, \\ell} \\sin(\\theta_{j, \\ell})\n",
    "$$"
   ]
  },
  {
   "cell_type": "markdown",
   "metadata": {},
   "source": [
    "No nosso sistema de unidades com $ m = 1 $ temos \n",
    "\n",
    "$$\n",
    "    a^{x}_{j} = \\sum_{j = 1}^{N} \\sum_{\\ell \\neq j}^{N} F_{j, \\ell} \\cos(\\theta_{j, \\ell})\n",
    "$$\n",
    "$$\n",
    "    a^{y}_{j} = \\sum_{j = 1}^{N} \\sum_{\\ell \\neq j}^{N} F_{j, \\ell} \\sin(\\theta_{j, \\ell})\n",
    "$$"
   ]
  },
  {
   "cell_type": "markdown",
   "metadata": {},
   "source": [
    "+ Método de Verlet:\n",
    "- Posição e velocidade das partículas à cada passo $t = n \\Delta t$:\n",
    "\n",
    "Para $n \\geq 1$ \n",
    "$$  x_{j}(n+1) = 2 x_j(n) - x_j(n-1)+ a_j^x(n) (\\Delta t)^2  $$\n",
    "$$  y_{j}(n+1) = 2 y_j(n) - y_j(n-1)+ a_j^y(n) (\\Delta t)^2  $$\n",
    "\n",
    "\n",
    "Posições iniciais: \n",
    "\n",
    "$$ x_j (1) = x(0) + v_{j}^x (0) \\Delta t $$\n",
    "$$ y_j (1) = y(0) + v_{j}^y (0) \\Delta t $$\n",
    "\n",
    "onde $x(0)$ e $y(0)$ é a posição inicial de todas as partículas.\n",
    "\n",
    "\n",
    "Velocidade iniciais:\n",
    "\n",
    "$$ v_{j}^x = \\frac{x_j (n + 1) - x_j (n - 1)}{2 \\Delta t} $$\n",
    "$$ v_{j}^y = \\frac{y_j (n + 1) - y_j (n - 1)}{2 \\Delta t} $$\n",
    "\n",
    "\n"
   ]
  },
  {
   "cell_type": "markdown",
   "metadata": {},
   "source": []
  },
  {
   "cell_type": "markdown",
   "metadata": {},
   "source": []
  },
  {
   "cell_type": "markdown",
   "metadata": {},
   "source": [
    "# Detalhes de implementação"
   ]
  },
  {
   "cell_type": "markdown",
   "metadata": {},
   "source": [
    "### Tarefa A"
   ]
  },
  {
   "cell_type": "markdown",
   "metadata": {},
   "source": [
    "- Dimensão da caixa: $L = 10$.\n",
    "- Número de partículas $N = 20$.\n",
    "- Velocidade inicial das partículas $v_0 = 1$.\n",
    "- Tamanho do passo $\\Delta t = 0.02$.\n",
    "\n",
    "- Pede-se para graficar coordenadas das partículas à cada $3 \\Delta t$.\n",
    "\n",
    "- Determinando um tempo total de evolução $\\tau = 100 \\Delta t$ ."
   ]
  },
  {
   "cell_type": "markdown",
   "metadata": {},
   "source": [
    "#### Inicialização "
   ]
  },
  {
   "cell_type": "markdown",
   "metadata": {},
   "source": [
    "-   $N = 20$ partículas em posições aleatórias da rede com espaçamento $L / \\sqrt{N}$ \n",
    "\n",
    "\n",
    "\n"
   ]
  },
  {
   "cell_type": "markdown",
   "metadata": {},
   "source": [
    "- Cálculo das acelerações (~ ou força): \n",
    "\n",
    "\n",
    "\n"
   ]
  },
  {
   "cell_type": "markdown",
   "metadata": {},
   "source": [
    "Com $ m = 1 $: \n",
    "\n",
    "$$\n",
    "    a^{x}_{j} = \\sum_{j = 1}^{N} \\sum_{\\ell \\neq j}^{N} F_{j, \\ell} \\cos(\\theta_{j, \\ell})\n",
    "$$\n",
    "$$\n",
    "    a^{y}_{j} = \\sum_{j = 1}^{N} \\sum_{\\ell \\neq j}^{N} F_{j, \\ell} \\sin(\\theta_{j, \\ell})\n",
    "$$"
   ]
  },
  {
   "cell_type": "markdown",
   "metadata": {},
   "source": [
    "$dx_{j, \\ell} = (x_j - x_\\ell)$ e $dy_{j, \\ell} = (y_j - y_\\ell)$ segue que $d_{j, \\ell} = \\sqrt{dx_{j, \\ell}^2 + dy_{j, \\ell}^2}$"
   ]
  },
  {
   "cell_type": "markdown",
   "metadata": {},
   "source": [
    "assim temos uma forma para calcular os senos e cossenos de $\\theta_{j, \\ell}$ \n"
   ]
  },
  {
   "cell_type": "markdown",
   "metadata": {},
   "source": [
    "$$ \\sin(\\theta_{j, \\ell}) = \\frac{dy_{j, \\ell}}{d_{j, \\ell}} $$\n",
    "\n",
    "$$ \\cos(\\theta_{j, \\ell}) = \\frac{dx_{j, \\ell}}{d_{j, \\ell}} $$"
   ]
  },
  {
   "cell_type": "markdown",
   "metadata": {},
   "source": [
    "https://en.wikipedia.org/wiki/Periodic_boundary_conditions#:~:text=The%20minimum%2Dimage%20convention%20is,remaining%20particles%20in%20the%20system."
   ]
  },
  {
   "cell_type": "markdown",
   "metadata": {},
   "source": []
  },
  {
   "cell_type": "markdown",
   "metadata": {},
   "source": []
  },
  {
   "cell_type": "markdown",
   "metadata": {},
   "source": []
  },
  {
   "cell_type": "markdown",
   "metadata": {},
   "source": [
    "# Gráficos - Análise de resultados"
   ]
  },
  {
   "cell_type": "code",
   "execution_count": 1,
   "metadata": {},
   "outputs": [],
   "source": [
    "import numpy as np \n",
    "import matplotlib.pyplot as plt\n",
    "import matplotlib.animation as animation\n",
    "\n",
    "\n",
    "from IPython.display import HTML\n",
    "\n",
    "%matplotlib inline\n",
    "\n",
    "# graphs path \n",
    "graphs_path = \"graficos/\"\n",
    "DPI = 300\n",
    "\n",
    "N_particles = 20\n",
    "\n",
    "font = {\n",
    "        'weight' : 'bold',\n",
    "        'size'   : 16}\n",
    "plt.rc('text', usetex=True)\n",
    "plt.rc('text.latex', preamble=r'\\usepackage{amsmath}')\n",
    "plt.rc('font', **font) \n",
    "# \n",
    "# plt.grid(which = \"major\", linewidth = 0.5)\n",
    "# plt.grid(which = \"minor\", linewidth = 0.2)\n",
    "# plt.minorticks_on()"
   ]
  },
  {
   "cell_type": "markdown",
   "metadata": {},
   "source": [
    "## Tarefa A "
   ]
  },
  {
   "cell_type": "markdown",
   "metadata": {},
   "source": [
    "### Posições iniciais"
   ]
  },
  {
   "cell_type": "code",
   "execution_count": 2,
   "metadata": {},
   "outputs": [
    {
     "name": "stdout",
     "output_type": "stream",
     "text": [
      "2.0\n"
     ]
    }
   ],
   "source": [
    "params = np.loadtxt(\"saidas/tarefa-A/parametros.dat\")\n",
    "\n",
    "num_particles = params[0]\n",
    "print(num_particles)"
   ]
  },
  {
   "cell_type": "code",
   "execution_count": 36,
   "metadata": {},
   "outputs": [
    {
     "data": {
      "image/png": "[encoded data removed]",
      "text/plain": [
       "<Figure size 800x800 with 1 Axes>"
      ]
     },
     "metadata": {},
     "output_type": "display_data"
    }
   ],
   "source": [
    "data = np.loadtxt(\"saidas/tarefa-A/posicoes-iniciais.dat\")\n",
    "\n",
    "\n",
    "params = np.loadtxt(\"saidas/tarefa-A/parametros.dat\")\n",
    "num_particles = int(params[0])\n",
    "\n",
    "X = np.linspace(0, 10, data.shape[0])\n",
    "Y = np.linspace(0, 10, data.shape[0])\n",
    "\n",
    "fig, ax = plt.subplots(1, 1, figsize=(8, 8), facecolor=\"lightgray\")\n",
    "\n",
    "plt.xlim(0, 10)\n",
    "plt.ylim(0, 10)\n",
    "\n",
    "num_timesteps = data.shape[0] // num_particles\n",
    "\n",
    "data = data.reshape((num_timesteps, num_particles, -1))\n",
    "\n",
    "\n",
    "plt.grid(which = \"major\", linewidth = 0.3)\n",
    "plt.grid(which = \"minor\", linewidth = 0.3)\n",
    "plt.minorticks_on()\n",
    "\n",
    "# plt.plot(data[:, 0], data[:, 1], color='black',marker='o',markersize=10, markerfacecolor='white',linestyle='')\n",
    "\n",
    "colors = plt.cm.jet(np.linspace(0, 1, num_particles))\n",
    "\n",
    "for i in range(num_particles):\n",
    "    x = data[:, i, 0]\n",
    "    y = data[:, i, 1]\n",
    "    ax.plot(x, y, 'o', markersize=9, color='black', markerfacecolor=colors[i], label=f'Particle {i+1}')\n",
    "\n",
    "plt.savefig(graphs_path+'tarefa-A/posicoes-iniciais.png', dpi=400, bbox_inches = 'tight')"
   ]
  },
  {
   "cell_type": "markdown",
   "metadata": {},
   "source": [
    "### GIF com tempos"
   ]
  },
  {
   "cell_type": "code",
   "execution_count": null,
   "metadata": {},
   "outputs": [],
   "source": [
    "filename = 'saidas/tarefa-A/evolucao-posicoes.dat'\n",
    "data = np.loadtxt(filename)\n",
    "\n",
    "num_particles = 20\n",
    "num_timesteps = data.shape[0] // num_particles\n",
    "\n",
    "data = data.reshape((num_timesteps, num_particles, -1))\n",
    "\n",
    "fig, ax = plt.subplots(1, 1, figsize=(5, 5), facecolor=\"lightgray\")\n",
    "particles, = ax.plot([], [], 'bo', color='black', marker='o', markerfacecolor='white', linestyle='', markersize=15)\n",
    "\n",
    "plt.grid(which=\"major\", linewidth=0.3)\n",
    "plt.grid(which=\"minor\", linewidth=0.3)\n",
    "plt.minorticks_on()\n",
    "\n",
    "ax.set_xlim(0, 10)\n",
    "ax.set_ylim(0, 10)\n",
    "\n",
    "time_text = ax.text(0.35, 1.05, '', transform=ax.transAxes, fontsize=22, color='black')\n",
    "\n",
    "def init():\n",
    "    particles.set_data([], [])\n",
    "    time_text.set_text('')\n",
    "    return particles, time_text\n",
    "\n",
    "def animate(i):\n",
    "    t = data[i, 0, 0]\n",
    "    x = data[i, :, 1]\n",
    "    y = data[i, :, 2]\n",
    "    particles.set_data(x, y)\n",
    "    time_text.set_text(f'$t = {t:.2f}$')\n",
    "    return particles, time_text\n",
    "\n",
    "ani = animation.FuncAnimation(fig, animate, frames=num_timesteps, init_func=init, blit=True)\n",
    "ani.save(graphs_path + 'tarefa-A/particle_simulation.gif', writer='imagemagick') # , dpi=DPI)"
   ]
  },
  {
   "cell_type": "markdown",
   "metadata": {},
   "source": [
    "### GIF sem tempos."
   ]
  },
  {
   "cell_type": "code",
   "execution_count": 41,
   "metadata": {},
   "outputs": [
    {
     "name": "stderr",
     "output_type": "stream",
     "text": [
      "/tmp/ipykernel_36172/3825163013.py:13: UserWarning: marker is redundantly defined by the 'marker' keyword argument and the fmt string \"bo\" (-> marker='o'). The keyword argument will take precedence.\n",
      "  particles, = ax.plot([], [], 'bo', color='black', marker='o', markerfacecolor='white', linestyle='', markersize=15)\n",
      "/tmp/ipykernel_36172/3825163013.py:13: UserWarning: color is redundantly defined by the 'color' keyword argument and the fmt string \"bo\" (-> color='b'). The keyword argument will take precedence.\n",
      "  particles, = ax.plot([], [], 'bo', color='black', marker='o', markerfacecolor='white', linestyle='', markersize=15)\n",
      "MovieWriter imagemagick unavailable; using Pillow instead.\n"
     ]
    },
    {
     "data": {
      "text/html": [
       "<video width=\"500\" height=\"500\" controls autoplay loop>\n",
       "  <source type=\"video/mp4\" src=\"data:video/mp4;base64,AAAAIGZ0eXBNNFYgAAACAE00ViBpc29taXNvMmF2YzEAAAAIZnJlZQAAOW5tZGF0AAACrgYF//+q\n",
       "3EXpvebZSLeWLNgg2SPu73gyNjQgLSBjb3JlIDE2NCByMzA5NSBiYWVlNDAwIC0gSC4yNjQvTVBF\n",
       "Ry00IEFWQyBjb2RlYyAtIENvcHlsZWZ0IDIwMDMtMjAyMiAtIGh0dHA6Ly93d3cudmlkZW9sYW4u\n",
       "b3JnL3gyNjQuaHRtbCAtIG9wdGlvbnM6IGNhYmFjPTEgcmVmPTMgZGVibG9jaz0xOjA6MCBhbmFs\n",
       "eXNlPTB4MzoweDExMyBtZT1oZXggc3VibWU9NyBwc3k9MSBwc3lfcmQ9MS4wMDowLjAwIG1peGVk\n",
       "X3JlZj0xIG1lX3JhbmdlPTE2IGNocm9tYV9tZT0xIHRyZWxsaXM9MSA4eDhkY3Q9MSBjcW09MCBk\n",
       "ZWFkem9uZT0yMSwxMSBmYXN0X3Bza2lwPTEgY2hyb21hX3FwX29mZnNldD0tMiB0aHJlYWRzPTEy\n",
       "IGxvb2thaGVhZF90aHJlYWRzPTIgc2xpY2VkX3RocmVhZHM9MCBucj0wIGRlY2ltYXRlPTEgaW50\n",
       "ZXJsYWNlZD0wIGJsdXJheV9jb21wYXQ9MCBjb25zdHJhaW5lZF9pbnRyYT0wIGJmcmFtZXM9MyBi\n",
       "X3B5cmFtaWQ9MiBiX2FkYXB0PTEgYl9iaWFzPTAgZGlyZWN0PTEgd2VpZ2h0Yj0xIG9wZW5fZ29w\n",
       "PTAgd2VpZ2h0cD0yIGtleWludD0yNTAga2V5aW50X21pbj01IHNjZW5lY3V0PTQwIGludHJhX3Jl\n",
       "ZnJlc2g9MCByY19sb29rYWhlYWQ9NDAgcmM9Y3JmIG1idHJlZT0xIGNyZj0yMy4wIHFjb21wPTAu\n",
       "NjAgcXBtaW49MCBxcG1heD02OSBxcHN0ZXA9NCBpcF9yYXRpbz0xLjQwIGFxPTE6MS4wMACAAAAv\n",
       "MmWIhAAU//73x0/AptrOXsudRT0hMIrY+kgovVjs0DJ1AAADAAADAAxo+avnG4OArKGAAASIADDW\n",
       "H/hBf/gCmrp8IWY4fFAzyjq+Ym//MGTG08m8wMysj+0E0YTVqs7GhFcoqdJRs5yHwtpioF4/8mGY\n",
       "i2oV80/e8WL1NbJzAniO+zXWapbQNp+hv0dGH4anKLlP3fNVCUA5NsTALHBAgnKZD3zQ72y9sWG3\n",
       "XbhEQxFjcjAVrU8eTIVEIpBH/Z0Ln8jH9m1q31lvI3jGkcnTuO4H/GZ7phMIFl4ieH8EsnZccFXF\n",
       "uplCqHKNPQWBfpNbEPmjKvvgf1BdqbQ2xA6ukXMGflBK+9z/+n1qL2ayNq07XWchW5LClNSstDCm\n",
       "o1A/S//8JwWnAdT5nfmhmqNPbnBZ3t2Sa+PTbeacYMwO55vncQx/OZdqOE05Ry+kb+Fm9hCwgdpY\n",
       "eONGBZupeBKUj7EvTR/DV2A0Ik+/zzrohLgMZrO4r6x95bDZTXkY//rLRvgMuIjutFgrEGn8xUuH\n",
       "srxdTePn7XojrsHepBD20NE+5mCBelVOAJLlOwfxDw7iPulz5uve/dmX//OYQACZHSQcrtCWbH8s\n",
       "kAp0mEWYQ8offLKO2umwg4KxoZdx5p08IkP00vVnScd36YA59CySOjmkiQ67KVDuY53FInJJ0McV\n",
       "UTlVhQU2wOErE0Zv5sTbrvxqi7YFtDj6ofZzPGvnlnWilFAV7gljkD+HGgHmuLkVrPDbtTwI1t/z\n",
       "PGmxIFA6pLVypLRLXmF+9yXYQ3eZ6ufaJpSmDnXMAlzMQwdVLRqC3+xnllUpdSwtYubbSeqJZe6p\n",
       "gsTV6EPQiuSh3L4kIgW62RrqP7H9uijN1Hv3bQy6ryoFJqJgGCur3nm7RZiTopsUlnADK2Ttrdte\n",
       "w71JEdAYHY0C88K1uJh1sDdX7JXv7SeJYXt6JkZrkrLMKKQ78yO7bv2tawj6emvnjZh3jooneSEx\n",
       "beSTudGJrix66hvmAfBH1roPFWbmLa4nEWitFHG3iL4nJaQKbonOc6e3ZyeMZ9QTb/v4b8KE/vOv\n",
       "0BjPMgvQ7r7Sv13xSEyeR06cVWlIRUHOkiR5Mi7h0LfuMZRETnQyIZShZw51bS4TnsZxE8GBEHmN\n",
       "UQX3zycN+P+hE7Mvh3UA/doAEhOW74XSVn6yCHgX/gntjMOg7joJDSMCJj2uTojBGpJ078dmX0Gs\n",
       "ExMwF/+uRAvcl8vhziOhU7h3f/RnZApDvt5f8ySYcqQTkT5v3PbRimK98yZJnqwztXiY/RixxXxW\n",
       "MrimKnkjDa82DVy1QYiK50dECa/YMhjQ84/+N4lDC+T3R2EEeFye2SAW+OtNhWb1acF87BWSQwDs\n",
       "3mnCftqZShmL5KNoBi7R1fusEMXI/vBOX0K57BzrEtX/pZjYaj0KLutjBaqxRLt/6uaYfuKKt9YY\n",
       "/bYsCQwVnRqksipYSoZ4fcBIrz439XoCz9tp+UzfSXvQkUN/7+8Wu0upiJe+CP3zBluANFc65D5n\n",
       "q9nBJlUeyUQ649zZis+bG8I4/UYoZ7dibpl9It1f37UBNlV2pAW12jhbdkujC0ZmHOgX1I5rTTHb\n",
       "5If959zzy7wbvtOfs/euahYjvTPc5DYy5m57KEcqJJaDktS9DNDBZUnPtVjczwH3EsNUdDvABbMf\n",
       "6ReV2spREtcGUFYjlRgJUSC8vKAF8SNt8kjOYgSHRILNitgw8GydYsEKs+h+dotuJDW7cJKLUFam\n",
       "T1R/oHu0YHKTZsyBo4LnDhIFcjtXWuAN+a9uyHPXAOXNdVDxpA7Ay5KyLd6sH1rqghKsJoGqDNfV\n",
       "lgOKzf1ZUeDDaZXcncMq2cCIdSot9U1knBV9C/4HclGbjkSX31qouXB4ibaI4sXo+St4UmiiEX2f\n",
       "UiWdtwL7U559cd88J0SV1dQm8TzA6vj+EfSSONUSXkdhMyjR/cfjXyezMX34XqMimeqvO24s+zrv\n",
       "K82ZeUoGstz/k9Yq94darTJDlZ8gqimGBcfyXcHPBqCPzcFFqg2G5Jb9eoIWYVt9XqhVMt8af1DC\n",
       "UDnK6h6RsfR2Q3BRpAt2qnyhnMiIx/f5JpFFNnh4MoTmXmMGEHqfAlnprAmgel+s1cu8EzUpnWHV\n",
       "vTj5GfQO6fb8UtUxBAhtNRjVJfFqfoymWyJWG4ZbLag9VBtMmqVkrWOAErQgucYcT0p1xJCg9266\n",
       "BF+0JApcSUElePLDTcq4HP3PRnyDeCpX0+JzB0EI6o/99ki9eDgtd2UVvdVJ7md20m+9SuxwqCLx\n",
       "kyg+Q4tkP1rL4/GEVXqJih34TkhIV5ZM7M/7fn+KgAtzoicio5BQ1HaqBSRT09GfxyTzX0bCLL6/\n",
       "FX9/nUpXrmK4PAoU2E5qITBcpGha0wBmo47d9DabtKlsTnVNvqgPpd1PPwxaVAFoNxT9Xkg9EWX+\n",
       "L2TteHv7Ct841fBPGE4vEzrxQk1QSxNdW8qCyqZ8vFHZVij4RQXRIcJoH6J10xGHsNMUMpd/M5Wy\n",
       "1CFXZqdPRowLnv6HHha7JWf7MTL1VlwAd/alOXhzJ1VjogFS8F+y/KGKrz8IRyDjaJaua9ZL2zue\n",
       "dWnOZOaP9UxB261h/m7J/V4AJjYmJQ7qRaixHdFXsj/61eC4PPrG/Su2rU9wZxM/G5/Oxa6ZH5jF\n",
       "ecyRS0xrncSl71PpNCpB/p6JXis2TXZsZks/uM7xMm3w9XiT9W8v8iTnThlDcRg21l+f5AWJz6bB\n",
       "dKrB/2LVIIUYSvvJ64fwt+2V1C5SAIiYR9IRnYHkhr1Xn2VL1uEQr/1kPMwMS5/AFgcJLckhufa/\n",
       "XWdfnXKSydTEBiufjXn0fNdXr9jgNsPpzVP2VbOHo8ORUO7JMuEo+ZtfX1QKxG31/MYxPR7ZenGY\n",
       "32Ak/yx48PjTgCQCNZ652SIi+Z/nhcnQ6A/bzI4S6mpG36v+K8KIDjISI2YVqX73jeZzo0CzPNq2\n",
       "4Jil3sRsAWV7whv1UMhOpH82QfD1le/hIqDS3sXcvpui2xPAQFGhNRGDHS22GacGkQW+ZaHG5Y3D\n",
       "e+d+Jr5nJO+L8roozCcLjMukfrzz43rlIDAHRLYmeL7rCQbwosWiXJPL3hV5W2ONIa7L+ant0tY1\n",
       "AnpQxpSs7JplO7sX08h9oEL3TaQDfEz5izJoAwVv8nHN4FjQSr9LwtjVGfXWDFb0CF10hj50uOqU\n",
       "h+ubBqOaLM1ToO/jT2LE9+cKsTKsvNW5/vn3+/6373LqXce3tDPP0TeVMaoviOHx+C5o5ompUchj\n",
       "Up3Kp1dwwCPaaYlR6+PBzQMs+zbqiC4SYfuWgOiUqfnv51ENN3n8nhhCUWk21M/FZybqMMbaErKp\n",
       "OUo8VzzDsooV+00915QvdqNBs2WL0+a5E2d9hlziG4HpCt1N5PrqyK2Jm4dS1gh3pMLb715ccAhy\n",
       "jIUOg/Eoja+Wybn2rPdrB6dEa9m3N7+HucmooJg2WJyAnHS2eG+J3FSMo3OQudY9WVllbm0Buslv\n",
       "Yr1a/eMz732z/lEwx1ILqATtwpfptryUM6SrCIqKq5F1qwrmmFahBjVCv7uKnkmeoI+YyGLwnyWa\n",
       "izvrNywvzEFFW0rY7FkdVNH8g3Sr3bjrNJFOCh1Aq1IxTRGFjtUqgXkJWGLbNTkbMIItqRzcFKrO\n",
       "0PpnHhd4Ymi9UorSZMi3/yA6pZBxFIH95hLidoLhuOox5eKcUxKzRrNeKULLyVVwus9R/txIwORN\n",
       "hU0RjbeRcMbkhNAJZ99bEKRx/l3Ga6TSv0fI7DC5xT9+Fa5TUEqOYbMSYQyKe3tgknifDJqfI7Z1\n",
       "qXmDeDGH7RH6qq0okg9Wot/+X/5n/8X/yefnOPAJOGos9fp891dMqiaox1Mf6x2f6TXhJpla+xws\n",
       "q2xj1vjz8+qrZYHZe/BN1H2Kj6UG86JyHZLHzgXyDG6CoR632/XFko9DxSfACaBjV/hisDwIc6pL\n",
       "ldJpkWQj+EO9X6YUD0iffdzQMC89ZkyZ21ULt5OvDmcZ2K9+/8d7yCNX1Cv8iVwNq9adN8tV887+\n",
       "HD8Uo4TWMQcRPZWzJFxOLEsanBbsNLGxgVrGw4JKDDuFuVx4FEwif6uRKeE0ire+Aa148E9dSIvT\n",
       "BHEIgEEKq54Iotg9c9Dd5w74NGaovNj/RzDcC3e/UaHIdYG1sRIy6ok9pLCU/s2EfdNrpp5zKcEE\n",
       "wSAOlY33EYmIijKKhg4viPYG916/G61QNnoMoqpT/UmchpZdJ+Ftz78eXn6QY8SpWBHQ7cOS4Rop\n",
       "tFwgRaidUHSg2t8b6SPHdvX0pToHyk2jTJv5GaxUTUXe7t4sg7Y0/DUc3UbCVugB84UcOSRlnTYY\n",
       "be0EhLV1GBbglD+tgcxq4oYapEQAXkfvagyjhH8LQ4bUUFRjNjGtX/Gi0x/qP+D78Vh7rh/Onj/2\n",
       "I4p0kAO8P7ygMjVPh8mW9heUMLLthoJKJFQ5VJpklXtfFSri2OGDsSooXGxvrmpf0rKoDN+x+EXR\n",
       "wGD4vIpKjaHbBV9jeLYVXbsy4nYLFfYEesG5R5PISy7c5SLlpf+AM0hjjt64uiMAZ2ssjiukzrUm\n",
       "a+ke+q7gdZLI9xbYP9CZNq+8M6OOlJoLUt6r9cVz19jKjF9tWjO8At2Z813Zv9a8n9aDgb/uwKA+\n",
       "p5qy3pMxed9WQ5zsA6vFBsfAatU4c4EMTOzW1II9++LrXGE3vw1lR2xSvCUOLFvz8NSePJ8XpSXi\n",
       "FIX2wnWkMndH2PU6Ps1oMXzGJpmdAGqo0G8MUL+rerUoJOlTr8eEe15EdVLXMI96Qe3baSlg/CPg\n",
       "hJ6is2oZeExnR1fcO3x0mB2SbUD5UuSdvoDSKripe2wZCqvATFgssWeLFfuKxN1hGh7nDN80PBv5\n",
       "qTDy9CiLI10YsTpRq69xRePgdz1npnHi9cA8MY1cZ4r/S5HiWryvkSNaow73MUCE8DJ1nJMS6P5h\n",
       "VU5iBVgaM0fiuU1Xzxrslsx2skvDrM/LKFeO1P77y3wPLgrdBmdyQPGwxht5fFg2jrU2L+MgzOTo\n",
       "DtQABx1i1wMN1zVx78xObgolLXTmj6DvYFVOj6QtSfEV1YO2ytnug/yV5kCt6zuZPzBUGCSiRyod\n",
       "ddwvxeMrE6rSwOOD6wfJI7FkahgdQhgNFFtv+54l7VKtfClGW85AJjBEMKkjPteQxEqDsHiWzPhf\n",
       "6oz6XXPgKyJc2ns2uwhXIao+ZMg/HtY5VEoZwEfWEXJweP5G4+w+7JnnrvDNjfDU1B3Bqn02n1MH\n",
       "LB/+wAnSgAB4dqliHJx2rj9aYr+oY6e0Aa9Z2iobnPDmuqXRZvBS+3ohj27uJle/+xMRLXMBJ6De\n",
       "QDqs0MxQIJgacFyQcydq3moxx4qRtFjEnmlgIObfEiWwQWoUv5tlJkphXDA4B+YxCsZh9+nVHUrR\n",
       "djhD3QAgRfroZa4FQ1cAwP47bMSVSOVF3qf30EcJZ05G1OzbY8rX1FtKxufiyNC8jvdSl5Agt3nG\n",
       "jWkDAT4xF7yXKgViU+tr8EKMAHsTrNj4KnslT7ntfsWSKjXPswRMMs7iLE4cAWRPP1cf41979joy\n",
       "gcDeMpVfhPd4/7pTSm1FcK7CL6lTdBxlztSUnidoOgkVZ5yQoCZPvJfw/X9jaRi4PT0u/SVXH3KM\n",
       "V+3PH8LbAV+G6sbIqtEfdqfFt5DVSDmmyiREIH2BrzZFkmEOYWKMx64fGYeuDCwoRUE8xyC80s+8\n",
       "FfwLa8A7ILQTNTwkGK8mNJGvC3s/4XJxW5r08dl9GvueF4z8JdZ+AjCf+wv3iwAmH/qcwAK1TO+C\n",
       "X08CH46ViQSRGVOQrZF59CLnhERVLHVDVXmydSKn6yWxVkW3US4UiZc6d8xFerBB+zQXIUdWWt35\n",
       "jUG/+q3Mk/QfXE7bguLLlYTu1Vfdv/iDb162CZokTx3nOZ2UfPduc5UR09hEOiLGLXH5/CZdVoLC\n",
       "w/GcwgnRt11rAf6FNjfMddE6l4sg/ftkoOh6VBtKlJkDLjGsX8P/qDkLyhzyhyQk4G7j9ftm9yz4\n",
       "GHHkO3T30GDzIXrkOa7THjPADP+dMMQjemmZ3H09Q7XXgIeWpAcaT8tI7sJDJasUq3jN8YuISQld\n",
       "GVg27oc9Lq5K3o7XC+6kaevTVkS2yTJ4lmbhXLDB7FyoY+dXxWplT9siq9KDk2XUC82XP/IKLGRi\n",
       "ssGHK0ApMe0UrDxYFR1OVw6laTK/YsdRqARZX691visOrx3U0xbRrdIUDKEJ8pMUCs9GJbflLtOA\n",
       "TWq07LwdFb1LtXul4k62nWQTLDFV3A7ENGCDvYjB07/5P5wK/he1KJMqRx1+rLUAC95uA56fU4FX\n",
       "TyDtcLMpip9VLHFGaBIbR9vseuYlbksm/hHb9vy21gGcXYu35v3eJ6HsDunM4cP+g0GwfvR03/0d\n",
       "3k7s522Lj15pNbcdXST6mAj81NVPeg983ExZqoMExH2UBvVLVMH5Of3bF+8u3dxkwHIhaLNyNFQV\n",
       "ji3UnJPfoIL0g2dEDQnSyv233EEGGTVa+1nPrv2cbKz/8+4/YakFH0rMSU93tYluVFG9CsiAD+ug\n",
       "2Vnu8M4FPGFOSE9iGRBReAePpmY0e5kDUOFTMXHCtS4JWtNj03IJ9fRcuXETIYiXr4KMiSPm861k\n",
       "nKC5KJZZefQ7iOsZUmYIlh3UdiBtAWQwWV0d5rYoMCHLKBTRl865Y9wWzCKIT+AvDWevqobkGiFa\n",
       "f9fAupp3/N2u6V90VpamLHgasphG43zvIR2aVu7noA3Qa0NX4mL2qIG7VC67W5P4brp+50s6wz6Y\n",
       "vucs9XvMclfDoP9M0+ZHTEVXQN6ecfYHDWri2cVC+mUi42SdWXyelcNTeUAAsDWynTmSV/tyo3F3\n",
       "GpOJziDfB6h2ljBSPrW/vpnQ3I08NrvTR48URBEd03n+hNjRSEqDd6WEwmDK8pBLfMMM7nexFti0\n",
       "qzBjQK3aGKGqwPSiMYfHLV3jFPxrpXMq3EgiU1OXe/EPG038LHAtoWEeuQ2l0qd3S1SPRZS9H19B\n",
       "ChrIU+Yc1vYPu9qA7d9QnAgC6l/Cry/tA9MWlOeUDvdOLqG7fm6DicssCgF7ovdEyTXO3F5jt93m\n",
       "xu9s5XqwrXg9DCIpKZFwNZsJCETItzhSuiRSMp4XABZ1Btn0nj7GAJzJs5nLI7S1MxsH4dV6HWXP\n",
       "Y4q9wh4VKwd+8MDF672oDYbxMUb7SLyXZPfUxlejCgBO6AlE+pvkYTv868aCFqJxX0fKaRYTzmss\n",
       "FHtgDyMrbsOdys+mQT0tT7qz1RN47+SwJ7Y6UGimjQ2Qciy3dtJJ7EM1Ub17FtY03pw89uzagTFe\n",
       "lZZpNhBIzrV/VZV3HaTTLSKs5xIp4eSWJ4xkrwoaxKjOJJUixlY/RY+HOoskTefC2DPbZ4auQ0Ti\n",
       "k1Z8xb8DZyW7ntitjPbphn4qiQbbk2swmX/Kaux9gFykclRtgNvl+2qG5v55wOm8nw2dYYuKolvk\n",
       "kJOSv8Y2dPyCeUVGK4vckqzD0Da5HIpZX/aIDafREIYXgz/9Y+sKIv7uLO7C2+noFYspEQ9nF/ew\n",
       "WlJfteXAWxueggmBxDlG+HMnq7EztL4Yoz6X92vEgEy/jvbMfR+fXm998l5U99BMWC06SlBjqpHM\n",
       "Je18KxqlGj+4+kJD2CUTVANOn9yE73+4wAHw92fQCGznTbV99poS/vyhiXUEJUSvIQqEDzmQldw+\n",
       "pJFsz3x/0Z8dldesk+JveP4YtZOIrLsfPebPRKJa61bqfivo8xnarOJI6dpWgCqPxiWOjblQylne\n",
       "IxL4npH+bL85zUMTpjo3XpZtKEwZD5KWplXNeTwmP7exuPGUMgAqRSWXqGzT1xnDMq4am5qu4Pzy\n",
       "1vEemPgndLOKaueCdBq71YZJqxvqVcunhbnbgDXvAqDSTRSjXzupuJYAPFXNho0mZPPwHLNRU00T\n",
       "zX1+haQe+HxMDP5oovdTe5uPNHHo6FhNva8VXLTZPcFab1wa8jWLgCfIBvGKDb4Vv/J2ZiAv81ZU\n",
       "CLYrJDtnVFCFVAfmxFLId9E8604N6ytt2embAjJlxPt3rrjpQmFbljkVOvddqpHlbdxzsRbKnK5F\n",
       "ex4NEJ0VYG3uV8He8uP+xSzQfH9JZ5u5zYAZZ0naQb5yYHz9wIOWGqaFMkDhW/zPlLcy/pGGlLte\n",
       "1CEguxieZ7NSeZsUNVY30/1Hzz2jzlgy35t5u79iS1HO2o58fsCq/hhkCUeWqHl2aq9ldKDTrTDr\n",
       "vqw/P2uVjaUbaLcG4BE8S2oqR8DV6g1tv7kBQUI1SvgEsitWaml4f/x6kdPuMxnfPP/8admv4l+/\n",
       "nBZOHLfttufNhZyRW3kFwavn9KbsRbMlg8lUA5j4qGnoD4JkyKOuixo4pxlasx+latMY6N+/FsC6\n",
       "DnWnkZ3KNkDvCkXD1X73089n9ZZQql/uGj5kdAZ5mDTIQsYVckZLMgYkDVCGuKwjbwOZzqcloJCT\n",
       "GjlELwnft+Xb8PtlKzi6wLu/y3CpMQX8+2WP94Y9cK43HP+Yw+TjjxYmhHR8bX1YTgYdcL5COn5R\n",
       "Oo2oBDPK5yucNgK5xCoaWocFNPDMKr8VYl7UTAfxbpZUbmlItyS1Ijq2TSEKVu+lIh2JtGNczU4T\n",
       "WWWOq/OvdUfcojQQBX8WBy0DzowDeSrD5uquHT2wMolZxmutM+OK9GzqfAM0ib4eeJ1n5S+iKpjk\n",
       "ct8RWFXjZKizK6agEoY39ySI87loG1hB42CiENJDIEyA7gwSdLwaWfHotL2HqSkdtZ5s8ox+j9Gq\n",
       "zIFAxL52dOjM+sU2zpvXGs47iftLKffslm06x3Fpe2Nv2V6dgstJriKLRYhyl1BAsfNbLXHOStAl\n",
       "cfezXoohai+D2OkAu7M+jrJ4hq3imsrjQaIDyKvhDqKuO0xHUUTW8zZe4j2WGT78W9EFI36KM/j1\n",
       "Pz1VEu7bJVd/ZNtN+Fh68rvN9s3DmqzECfXk9Y6sqedWztkjbhuWccEwuC6lMNBfbac4NhU8ysUX\n",
       "b9njnDdnmxeojbsTqAF3VdGQw+HWNK695bvv2jwU14dK1x5+RN+ugTEu9QNQ9oL+xMWRp/FLBUPs\n",
       "fRRhwc+X40g4w//b1e3j6o3k9s7CrT8aaBVTCxDo7q087RpiKbTW7DDSRmB9JgFRZau6vtWiCztd\n",
       "Fkm1iSFAIUgsreDV5jFrubwsJQ/PL0/kFEMZq/2bZQau1H6YBAH6K15ypbesirbPTOTcexqQadcd\n",
       "n2qZjZCHTGSZIyx7ljAdTGVyTPjTvZ38MCpMuWUV2I9HsNZIHp0lftRg4+JID4AAHd9zvMwZErYq\n",
       "RMoc1+DkbCQ+QruUh5WedmFHf7rSdXZ0XX9uveAEUque+QRG8BQPHVRTmChg7eTZ6Ie5lmlgof22\n",
       "zMbAM5e86Tmq4X1tl5P7YsJXOw+Wu+lDr3zUpKe+ZjVXQsjv7d6qHbMvumxrd91vEEVr4J5fN5dz\n",
       "E9yyQghddUhlmMfbJsnm0rVjhyaVQTEQjWKJPoAdy/jWHJ49FDoQmnWeY5vFf0N5B3tC5XA+w4Vu\n",
       "ZMuSqPYKurC2+nLUHmBRWpF80Hs76pntqH7iJTc/+2nCYiPjZXSc9LAdoqn5AFIh2fvyYmM4rsxx\n",
       "Ki5dIZ9FdvbsEsMCC/aLIgldinzlV0TnZWCqXVjoncYXISeli9SVfRmIOd5mxf6QkNO7t76jfS91\n",
       "Jqe9F5OB/WcsTFMjlVP/7wiLgO9K0+3iLonsx0zfnarNHf6rvYAAEov/MiifjxxGN19RPT/gX7B7\n",
       "Ghdi28/krTsVbzzpOcAPYcityCeSPizlLwwXwExLfT+j13662kGM5rR5knydldxk8XF/eH5xRx1d\n",
       "wEtz/Xs8SaS8VxM9D4Hu20aXlABVuJzTynruYyVATSXH7seVE+NdlDPcQuEwMraS+jfrOpMDZkU/\n",
       "bPQd0JMTyZOtcvBAb+J8uPT612W/6Z7hylVogo1WAzh7Q3/CcWHuDChQyYkbEFX56kRDwVnfKMEb\n",
       "OOZM89hp9n5rQlUEK+DFxsRn3siNjE4PHLv9ovy4ETsnf7hDWRXMYSn+0DNyCZdiFfr22CzMTLCH\n",
       "v7OKbufj9jGSnLzdQvt3VHsqeV6O/jUCQIt8rm2xUPBlOTX6tcpzAS1b849OlkLgZTveLhRviGp1\n",
       "ssm0qJUv8BJ9p3mc4wyLVFKbpGQPkeOoqwb5E3aFEytTxlETQEc85D+uWUJC7TlAe6yPBU2XacVD\n",
       "BL/ISRdAwf4uPUPfXrH2mVAMsudodSOg+OW/ylQyQYWyQ5W2y977AKkK+v1nkf/yyMSNWpXHHTON\n",
       "27BZUpd92IkF+qS22U37QXa+0z1zEuxBRQzeBop8j/SIu2bgHlusFuoJt2oHK5jwaVGxTrtGnWC1\n",
       "m+dOW6w44PkefKcXttdHoeWFcUj788vxjyHCOJLYiv209sj0+wAYYKnOVyLgXi7hDskj2MKfpOkC\n",
       "Tw8CsZyqnaPJZtxCqgQpSY0i47dpun7dD94f7flmD3bqxC6CdUgHiJmGuNspYqCI4/AiGkuFHTPH\n",
       "SpAXVUi9YZA3IW6CQo2eo1b4lrMENxpWfoKYvQDXJvM0ir4ryrhBJMWHX+srTfTrLSF3+bHFlLnm\n",
       "icsKUxwfuGreO3hgZexGg5xesuRLxgiPPAuxb3N8gFD7UmmEnz7lxb42iiZsTJhmAgazpOqmzebV\n",
       "AG78rXPGv8AuLxGh6Bx0vow91EIIF0t2pvRDxeCYZQ0Qf7az2/ww04VtoxBEkoyZG2Hgipb61NcQ\n",
       "BHqDTsc2/77QzPN+lwM10YtFdVj+EK2z6ziwsOKVFWOBZpkOwfKez/QDmFHnkjpxHE4hQW4OfQZZ\n",
       "JfGnbfiFJY+XaV0o0RLnoNqrkXWK8dX/hL18kbuADvZbrJcNKLSMqb6GUxpdK96P/UWDCgP0cuY5\n",
       "636qH8v+9LOnOagSjM28yURg+TjyTJyO/rL12ofamlzbsO1gbELxqQIioYSb5cyx+hBIxQ3gBLvB\n",
       "otmUmyPzfixu6z2QvX/AyBEGz8IbmboDg22NCcWM8qO6eDaufBg8SvZwPwKJq7DbxEKo5+FfORdU\n",
       "YV2SmSI+v2NrHH8Snx0Lc9ACkD2cbfoAcwYGD8T+/cioFsuj1/yb5VgZKqADAKufdUqLBaGa4pN4\n",
       "M/YNwH0QegAd9nLj7ixGQ8INwazdZNg9nHZHPEBqFOr0vZVJh6EHfDO50JxY6+KAxbbNdPEGZRRe\n",
       "2wd9WSZ39JPl3L/LqZ0len8BNVx60a3Mra5xY8KZo+aTdyS8b9/h1iBxCZkQorUz69k/5jHVuHcy\n",
       "ADvGiRqbIr+XcC01YXIeaHy16nf2rUAIUR87x5wI6LMtNhi0umnIjznH/h5RmAz8XxMu8ZWrUUTU\n",
       "gEK47y3eYFWzyBkaXNmAxxhodvM1dp32fgS/di52KfJ6z6HSeQhy3I+vSyhdDzdlEiFSf8BtA2LB\n",
       "J8bLq3a098CRQ2xtKbMFw6Biw6cwrK8reeu6es37BNE/0P2I69e6uHtzsscMP2WWK5fhYeN7zXyB\n",
       "aV6gNwCNf1BgQ/VfEAnukwPKWoxvXsn/8Jspaq0E1seezxuxTeb0AWGhCmaKnl0wEzi6e7kTdr99\n",
       "9ezd48HfqvyZsHVNVoz5OPhbP1SzkaAOpzKusqAArHoLg83j+rMxlRu8H++nyqzgsjPlQdvUxNd7\n",
       "fH/exc59oewwQQEJGyfrgsya4uctXOiDI8yczrDLQeL+IwmhZ6YqSMDivpvAjZk1743g8LFoS78i\n",
       "ngSQOjXwBC9uZnYkiCCNbgt/Cb6sZ8SEn/ZAh9EfWVpl+aJMzx0b7OZWa3He9V3apaC55KNS5sqF\n",
       "TJqFnN5cWTn326GFoL2RM8Svjmid9MK092tOQASLFvILPsyAcKkFVaA58tozkwsCpYTdNl2Ry+z/\n",
       "LiTsTVyCl+DUZuyGMEOvJAdh2GVOLhA/8BDYqEqwixOgWOSIggvIJ6LBJliSXeJP+oxHV788BC6H\n",
       "3IfnXOOFQ3LKyM/6dM1uFGjRVIRHD0XIz94ZcFQBvbpM8OFULULsPDUmMBI7HDSWlR07Wv7nAjHV\n",
       "Wqj4sU6obWww4if3nCBgmCrbiEWcqEixWl5aZzu+0J2FlQbfB/grmKO0PlY8hNNnz6Z0gB65rZT4\n",
       "NgzPhw78fSH1wFSGmNgdm3aVJRlHbA7Mks59TFaQIpepnN13hP1DughTilDiEd73gFUXd8XIVnef\n",
       "iU4ieHd3Z7pjCLesAQmh8JtRcFAz41IDAYLXxRjJSHhHxmHSMHPki3/P47fKXJc1PSkdPkOiahNL\n",
       "2U7Vk1sknYZCjLTx3OTCuvG9AP0eS2hAxqbD96hhpWGwkHUhRrNFzmIPwPUdwMaVT/8j2rFUPixo\n",
       "1Vzu7OpYVCJnEfZ76CyJjrGbZWId7wt8CXWGwYFc8/iSQeXFB+BszXSfI3ruMn9p3/m1TAagzUIa\n",
       "mlVHoRudURwzs/Xo5xabdi1eA2C52sVBAlyy58sV4GbW04HI67hBGXXzSnBU1+64hMp92UFELTri\n",
       "q4beRzDXmmQgjz9MP+fM7vhzNMtK9UO8AAIdbP3yYyXUx9bHoGd/QG2dYNh/NnLcVQWaxUCNnVOC\n",
       "DiUd1A2P2yfo1VDtRGIQXjEc3Xa03LD9oQwN1xLyJTBcbFV7NfRyNLYzqfH9TFYZBCp03W4wahZB\n",
       "5zbjljJB3UGvvShU/cTzn9zaXVaYQ2dcIrZDRqkU4DIv3ChR7TiDHTYJr7V3qEfoknm4BxrHuWAH\n",
       "FZo7znz7+FzV/XlmzwYXqbMxveXayfPjgJh3iCflQmFO+1Q7tBAj7ZJ4fZk2nl7n5Y7MbZQErZ+i\n",
       "q/8vFxUVJ7OKkLWhNgvyMM04tzGqNp7M+0++yWCibZQpnGa5ICl0pD9eB9uJtEGtK717kimbnWsr\n",
       "8z2ygahh2Zkk9eEesrtbCMR6cmONRFdw7spQZF59i2HqcFptyn/hvc9pi04zvCE5MbpMisbkQipE\n",
       "VgYBCobTZooBgGYkjzIrTRzrzgI53mQH0oM97bCi8FdYmaMfNFPAK0fiavp16sjib13lvftBujj8\n",
       "plGQwbNWa5LCppKnsPBqJfrveRn2QUGXljnDviTQNyD8YPwWm0AF8RsAv70nN5JTUE2hfU4WPbLy\n",
       "j+F3AzrZTwa9PXEjV+pjHNWTVnx8vUg8787JF6d2BDHxuC/5Imo1bIgyiJpYNJ5V3gNNh2Rz7jLY\n",
       "Ssd0331enFqgq1siVK/ZPIPAoCNoXwbPjhtJu4O5B5tu1dYmb0fr0Y4Mfkj13KOUprVzQrkjBHAy\n",
       "PBLWbFRKVHMB0DT22zFzMxJO/C1v3NSZAb2REfdHfSRp4n3n/VNa92EBhQsTh/ya+2BZ2I6ejw1e\n",
       "r1GBUCeOXbtQBrpbzreWONeK5gfik0JQSawmcmBqgPuH8m/VlPXWqwSi/+xQjYy+Lxwu1mJzsI2b\n",
       "qrTEktvftBXJJynCEuCgyqnjH6x0NqxD/KRYkAAclpkv1/881iI6xio4lXrhsIb6tTT+oxnuISK1\n",
       "2PnqQAnnK5M5OAdK8byxRbLZ8o0mVCI9Ag2BbgOSiK/8RV0g8HTxEC1qZ06F6kKmBwWSPDHpPtSP\n",
       "tBl6qjbQv6mLEQlXSAz38fVf4pSwYcjDSndHOuYAUQk6yAqyWbhEIOjPLGDVJg2XuboJhdZi+5n7\n",
       "ZhltWwt9c6XC4+kduIdFxH6JEg6jUMQn9lTDrjHOIMmjf3LDoDEfC9K2qvWhz2CQ5l2e/4ZGNj+O\n",
       "N8Tcwqn9IJjEJPuxqeIbOUFd0arEHU3jcSOGeAANqg/xBiMS/cjcZWLWiAmpqfRiMFSqPs9WQGbl\n",
       "9HBOPM2MumJYKW27O00UHzRYZT5Mh+LdV9PQQqAx+EzavueWQijbapJG/jtZJqjFu3edzzRAds+i\n",
       "6rVo/hbx4p99IS9PV7OdT4PwPeUQqP3ZEttk/ySTibd1cVupXifeuzqmoGWZsDTBk4mGRKiXv3yn\n",
       "Ny9qwWhZZ2wvSqhXqj3Zit1RrH5xglo3WZyQE19qwBeksirEzQr3qUvxR8/Om+NcuFtPbJtlajdL\n",
       "gBMwjFtFh49a3gGWVH0RKuJMk3Bt8clznuaPwWAYPtEPyLe5C4Zs+m71/2LI+0RZrt47zTPh8PcW\n",
       "4LEAywdh2xUp5jFVjcIDUO4KwoQwdxQS//OCb3szE/a4cEIMr3Ul4QOWCSFanMdpQrlPb9NTW3Yf\n",
       "YaS1qoKU832Khsx4HInY9nIgaxaKzhIFO73Ba9kBKxKnAHv89aSagnaJ/6aROwi9QxYocVRs1H04\n",
       "VkmQgPKaksPt+Sl3PYHmMp10nDU97JFvFxvKw/dDd7rMnZjoJvt1D4vMVhoFOFPaXOeH+BpcXAzL\n",
       "pL4CIUQ+/E1HisKfw3cXG9iMToLbdu0NP8AU62QZgeIN4OyOgCUbL57wOWU+ns3txPeHrd+nJJaG\n",
       "GQ/VJvk1FU5mj6/bxk/Cg89HwTNz5JPexagny54gA4d6LZPWGZH+qZFGUkdzaubEvS3lGsq3nwYC\n",
       "DH1cVxZTbRZt8M0nlJdwJZun+0DXoum3IJKazV7PrGIAowb+w3p71ZLhZb0cRwGvk6zaFsQyhx58\n",
       "eLSBwNkUeQ4+QMIpDaeV6cyqRH70211R7rNqBpOLCNn2ow9wnyTr4vQi6kraCW60kukErYuZMd7q\n",
       "nksdlV8WtTpsZtnD4ScU5TKMRWi8IRVqBnGs1PtjgIas+xAayXu/b21f3nbylg5cODTNJLXtKFMA\n",
       "dFSFK81YXpg5ZhguxUJwKdtk9+qxt+1EmhKayaFZaGVhDHv3Ec/Wzb9n/94qR6tafELSU06BGy1j\n",
       "4XsXrqzt0yuMHr6DmklaCKaRIAMDBBNgEZc5/qq3EfAkARYdE+mXGOSIImWjttuUjkVoX0QV2a2y\n",
       "KDA7GHr9boRydEdFrKKTAwhL6FhqqxcIhCpAIIL6LkeNiYwBz/1iYKwduWbXVjHMaYQ/nH9kzgZp\n",
       "sA/Te19kflXZc8ARB+ygtSGbUWDYQbtkWCQwCjTWWQTEBs5lOvZY+SLVMMqgC+C1t5Kz1maUNR/J\n",
       "gwMfkFM1RNny0h4q9IUhMU151jxNpUVwC9W8sWnpGeXkcf4U77qk0swlSConU8FE2ImV6Qe1mysb\n",
       "ZN+5cEnvfk/uLjWJa6cr4X/V7jD9NBHmY7736mITDUsjak4PqGwXYYowW8sBojikLcxeRNAos1L5\n",
       "OIGMm4NTFzATU8TLgOmpXi7U7wM1IToxNXaeTKL7nmj0eIY4feWZUlB9S7c2/nwQnbxSCbcE4nux\n",
       "DOuMOMTQX299sAwIO18E+KBgnmfFPznNRZxwsPW/Blku9dfCNK/don4QIV3JTjNYtJr0E+2NWC2b\n",
       "vYs3i3Zl1SdeyCfjt2AxNgxQRPvykJFcPzowSKMhD2P8+QzIyXe6iVMmhbpjXBmsGHyG03/s1IY9\n",
       "lF2qJTVIFM344uwkKCZXBCnTtXwGn3fOU9Tt5FKrm457YrVz2C8Zbd+WlNSSWhPsj8i/X6eOLC0N\n",
       "+MfXr75QnNDHtcyyAriMkuebRGQ2xHb20Or9KdEzbcQ/zztkYScuXfh/kGPd1JSMKu35i9LoQeqk\n",
       "WkfzRd4f+AMk6OZ/HNJuMtfded+6bdbqLP/yBF6vTEX6UMP+TpMaK+3KABcn/SUdWOT8NHKuY6ny\n",
       "zieKwxfoTS+Yrvr/F50LXWYrnxf4XQ2nAyYZeQWobAFHsy5efN/WNqlJalvpHrpTZSCosdEQ0+Qc\n",
       "N3AKIqD24kDA7dRkmx4eyFSijT7jocbX3uYb3mdepZFstelROYYr4tym8UcsgiXiS8fxzookZm/Q\n",
       "2wu3ft1aNaUfcdFZvdNUuuJreqxFN5dY8yOWo62fb39I0Pym+/ZHRKpe7Wc9rP+zZkZtJNkkBGAp\n",
       "MWcJeZYgYUngvqbNkM0UA9VhSOwHf1RYpR1zUtGQM7ae/zWpafOtiJPClEgDmtYTA5TsqNWNTyUm\n",
       "fwroKazhz8Xxcx6zeola899i4fiXlQtFU7fEDwQr28ZZ2k1qOK1WSYHWU6VCgPI0zJ4ccD7lvkTc\n",
       "pEpMNqtLnWQACiO8yPyiqa2hHcwGS2SPz29BcvFmxjb8/F7YeGj55OET3TtwdXGrvT3X8kk/l63D\n",
       "0psGCuimk6I4+h7qQ4RFeuUPe6oCN020uhWiEMtCyse7FEvJ+DlvfzG02u68kMlm7W9wAAADAS8A\n",
       "AAEmQZokbEFP/taMsAFTI4YoBanL+J3j+cImPTN0HuPcMukjVgfSksfz/3x9snYhkBG1HcV3oX/c\n",
       "SmJymh5bM174Orm7JC4rjVIlucjrI1Nxv32URT6WADrNRfUyUqmJIQwMFY7VsQvisuAeAZq5PfAJ\n",
       "4hoM9PhTceMDS0uztoZfhM2n+UdWi7RT1j5wASarv4eS0+EoB721ClUFWRHMnHeQpqdW43aGXvEV\n",
       "r5VfW9pkzzQF3rSDvJjXhKoC84NvGFzGqR3Nwhdfkp5aPSOerSmPhPFl+x3DE1ly7h1Y4JsCGKjH\n",
       "NpFBTwPKWKviXY4xt4lRYhlDpN3ww4bh/vWNhHDeGuVuNWGJVufOVAJpT2P2ayVgvMEBozz/oBv7\n",
       "ke2OgoZQwz2dtgS2AAAAJ0GeQniCHwAGbog1lZVBWD7bw26ax1gAWEJAksLiSj2XzE5LZtJJmQAA\n",
       "AB8BnmF0Q/8ADiV8gJUCsgSWIMH7Q8/Un/ecmw2B9MqAAAAADwGeY2pD/wAAAwAAAwAFtQAAAENB\n",
       "mmhJqEFomUwIKf/+1oywAAAb7rVAIrBoUGuvSJRoVN62SVsuje41QitZO6MGUuatarKsITODkYdj\n",
       "6jJAeW4OGWhBAAAAGkGehkURLBD/AAADAIah7JH2VhqMSTiTdlpdAAAADwGepXRD/wAAAwAAAwAF\n",
       "tQAAAA8BnqdqQ/8AAAMAAAMABbQAAAAsQZqsSahBbJlMCCn//taMsAAAAwABqOKlFDYnlu5fIV1k\n",
       "pa+Gn2VNuih+TsAAAAAXQZ7KRRUsEP8AAAMAAAMAzeqaOJ5KedkAAAAPAZ7pdEP/AAADAAADAAW0\n",
       "AAAADwGe62pD/wAAAwAAAwAFtAAAABlBmvBJqEFsmUwIKf/+1oywAAADAAADAIWBAAAAF0GfDkUV\n",
       "LBD/AAADAAADAM3qmjieSnnZAAAADwGfLXRD/wAAAwAAAwAFtQAAAA8Bny9qQ/8AAAMAAAMABbQA\n",
       "AAAZQZs0SahBbJlMCCn//taMsAAAAwAAAwCFgAAAABdBn1JFFSwQ/wAAAwAAAwDN6po4nkp52QAA\n",
       "AA8Bn3F0Q/8AAAMAAAMABbQAAAAPAZ9zakP/AAADAAADAAW0AAAAGUGbeEmoQWyZTAgp//7WjLAA\n",
       "AAMAAAMAhYEAAAAXQZ+WRRUsEP8AAAMAAAMAzeqaOJ5KedgAAAAPAZ+1dEP/AAADAAADAAW1AAAA\n",
       "DwGft2pD/wAAAwAAAwAFtQAAABlBm7xJqEFsmUwIKf/+1oywAAADAAADAIWAAAAAF0Gf2kUVLBD/\n",
       "AAADAAADAM3qmjieSnnZAAAADwGf+XRD/wAAAwAAAwAFtAAAAA8Bn/tqQ/8AAAMAAAMABbUAAAAZ\n",
       "QZvgSahBbJlMCCn//taMsAAAAwAAAwCFgQAAABdBnh5FFSwQ/wAAAwAAAwDN6po4nkp52AAAAA8B\n",
       "nj10Q/8AAAMAAAMABbQAAAAPAZ4/akP/AAADAAADAAW1AAAAGUGaJEmoQWyZTAgp//7WjLAAAAMA\n",
       "AAMAhYAAAAAXQZ5CRRUsEP8AAAMAAAMAzeqaOJ5KedkAAAAPAZ5hdEP/AAADAAADAAW0AAAADwGe\n",
       "Y2pD/wAAAwAAAwAFtQAAABlBmmhJqEFsmUwIKf/+1oywAAADAAADAIWBAAAAF0GehkUVLBD/AAAD\n",
       "AAADAM3qmjieSnnZAAAADwGepXRD/wAAAwAAAwAFtQAAAA8BnqdqQ/8AAAMAAAMABbQAAAAZQZqs\n",
       "SahBbJlMCCn//taMsAAAAwAAAwCFgAAAABdBnspFFSwQ/wAAAwAAAwDN6po4nkp52QAAAA8Bnul0\n",
       "Q/8AAAMAAAMABbQAAAAPAZ7rakP/AAADAAADAAW0AAAAGEGa8EmoQWyZTAgn//61KoAAAAMAAAMC\n",
       "BwAAABdBnw5FFSwQ/wAAAwAAAwDN6po4nkp52QAAAA8Bny10Q/8AAAMAAAMABbUAAAAPAZ8vakP/\n",
       "AAADAAADAAW0AAAAGEGbNEmoQWyZTAgn//61KoAAAAMAAAMCBgAAABdBn1JFFSwQ/wAAAwAAAwDN\n",
       "6po4nkp52QAAAA8Bn3F0Q/8AAAMAAAMABbQAAAAPAZ9zakP/AAADAAADAAW0AAAAGEGbeEmoQWyZ\n",
       "TAgn//61KoAAAAMAAAMCBwAAABdBn5ZFFSwQ/wAAAwAAAwDN6po4nkp52AAAAA8Bn7V0Q/8AAAMA\n",
       "AAMABbUAAAAPAZ+3akP/AAADAAADAAW1AAAAGEGbvEmoQWyZTAgn//61KoAAAAMAAAMCBgAAABdB\n",
       "n9pFFSwQ/wAAAwAAAwDN6po4nkp52QAAAA8Bn/l0Q/8AAAMAAAMABbQAAAAPAZ/7akP/AAADAAAD\n",
       "AAW1AAAAGEGb4EmoQWyZTAgj//61KoAAAAMAAAMCBwAAABdBnh5FFSwQ/wAAAwAAAwDN6po4nkp5\n",
       "2AAAAA8Bnj10Q/8AAAMAAAMABbQAAAAPAZ4/akP/AAADAAADAAW1AAAAGUGaIkmoQWyZTBRMP//+\n",
       "qZYAAAMAAAMAD7gAAAAVAZ5BakP/AAADAAADAcUL79Z+gyQhAAAGWG1vb3YAAABsbXZoZAAAAAAA\n",
       "AAAAAAAAAAAAA+gAADRYAAEAAAEAAAAAAAAAAAAAAAABAAAAAAAAAAAAAAAAAAAAAQAAAAAAAAAA\n",
       "AAAAAAAAQAAAAAAAAAAAAAAAAAAAAAAAAAAAAAAAAAAAAAAAAAIAAAWCdHJhawAAAFx0a2hkAAAA\n",
       "AwAAAAAAAAAAAAAAAQAAAAAAADRYAAAAAAAAAAAAAAAAAAAAAAABAAAAAAAAAAAAAAAAAAAAAQAA\n",
       "AAAAAAAAAAAAAAAAQAAAAAH0AAAB9AAAAAAAJGVkdHMAAAAcZWxzdAAAAAAAAAABAAA0WAAAEAAA\n",
       "AQAAAAAE+m1kaWEAAAAgbWRoZAAAAAAAAAAAAAAAAAAAKAAAAhgAVcQAAAAAAC1oZGxyAAAAAAAA\n",
       "AAB2aWRlAAAAAAAAAAAAAAAAVmlkZW9IYW5kbGVyAAAABKVtaW5mAAAAFHZtaGQAAAABAAAAAAAA\n",
       "AAAAAAAkZGluZgAAABxkcmVmAAAAAAAAAAEAAAAMdXJsIAAAAAEAAARlc3RibAAAALlzdHNkAAAA\n",
       "AAAAAAEAAACpYXZjMQAAAAAAAAABAAAAAAAAAAAAAAAAAAAAAAH0AfQASAAAAEgAAAAAAAAAAQAA\n",
       "AAAAAAAAAAAAAAAAAAAAAAAAAAAAAAAAAAAAAAAAABj//wAAADdhdmNDAWQAFv/hABpnZAAWrNlA\n",
       "gBB554QAAAMABAAAAwAoPFi2WAEABmjr48siwP34+AAAAAAcdXVpZGtoQPJfJE/FujmlG88DI/MA\n",
       "AAAAAAAAGHN0dHMAAAAAAAAAAQAAAEMAAAgAAAAAFHN0c3MAAAAAAAAAAQAAAAEAAAIoY3R0cwAA\n",
       "AAAAAABDAAAAAQAAEAAAAAABAAAoAAAAAAEAABAAAAAAAQAAAAAAAAABAAAIAAAAAAEAACgAAAAA\n",
       "AQAAEAAAAAABAAAAAAAAAAEAAAgAAAAAAQAAKAAAAAABAAAQAAAAAAEAAAAAAAAAAQAACAAAAAAB\n",
       "AAAoAAAAAAEAABAAAAAAAQAAAAAAAAABAAAIAAAAAAEAACgAAAAAAQAAEAAAAAABAAAAAAAAAAEA\n",
       "AAgAAAAAAQAAKAAAAAABAAAQAAAAAAEAAAAAAAAAAQAACAAAAAABAAAoAAAAAAEAABAAAAAAAQAA\n",
       "AAAAAAABAAAIAAAAAAEAACgAAAAAAQAAEAAAAAABAAAAAAAAAAEAAAgAAAAAAQAAKAAAAAABAAAQ\n",
       "AAAAAAEAAAAAAAAAAQAACAAAAAABAAAoAAAAAAEAABAAAAAAAQAAAAAAAAABAAAIAAAAAAEAACgA\n",
       "AAAAAQAAEAAAAAABAAAAAAAAAAEAAAgAAAAAAQAAKAAAAAABAAAQAAAAAAEAAAAAAAAAAQAACAAA\n",
       "AAABAAAoAAAAAAEAABAAAAAAAQAAAAAAAAABAAAIAAAAAAEAACgAAAAAAQAAEAAAAAABAAAAAAAA\n",
       "AAEAAAgAAAAAAQAAKAAAAAABAAAQAAAAAAEAAAAAAAAAAQAACAAAAAABAAAoAAAAAAEAABAAAAAA\n",
       "AQAAAAAAAAABAAAIAAAAAAEAABgAAAAAAQAACAAAAAAcc3RzYwAAAAAAAAABAAAAAQAAAEMAAAAB\n",
       "AAABIHN0c3oAAAAAAAAAAAAAAEMAADHoAAABKgAAACsAAAAjAAAAEwAAAEcAAAAeAAAAEwAAABMA\n",
       "AAAwAAAAGwAAABMAAAATAAAAHQAAABsAAAATAAAAEwAAAB0AAAAbAAAAEwAAABMAAAAdAAAAGwAA\n",
       "ABMAAAATAAAAHQAAABsAAAATAAAAEwAAAB0AAAAbAAAAEwAAABMAAAAdAAAAGwAAABMAAAATAAAA\n",
       "HQAAABsAAAATAAAAEwAAAB0AAAAbAAAAEwAAABMAAAAcAAAAGwAAABMAAAATAAAAHAAAABsAAAAT\n",
       "AAAAEwAAABwAAAAbAAAAEwAAABMAAAAcAAAAGwAAABMAAAATAAAAHAAAABsAAAATAAAAEwAAAB0A\n",
       "AAAZAAAAFHN0Y28AAAAAAAAAAQAAADAAAABidWR0YQAAAFptZXRhAAAAAAAAACFoZGxyAAAAAAAA\n",
       "AABtZGlyYXBwbAAAAAAAAAAAAAAAAC1pbHN0AAAAJal0b28AAAAdZGF0YQAAAAEAAAAATGF2ZjU5\n",
       "LjI3LjEwMA==\n",
       "\">\n",
       "  Your browser does not support the video tag.\n",
       "</video>"
      ],
      "text/plain": [
       "<IPython.core.display.HTML object>"
      ]
     },
     "execution_count": 41,
     "metadata": {},
     "output_type": "execute_result"
    }
   ],
   "source": [
    "filename = 'saidas/tarefa-A/evolucao-posicoes.dat'\n",
    "data = np.loadtxt(filename)\n",
    "\n",
    "params = np.loadtxt(\"saidas/tarefa-A/parametros.dat\")\n",
    "num_particles = int(params[0])\n",
    "\n",
    "\n",
    "num_timesteps = data.shape[0] // num_particles\n",
    "\n",
    "data = data.reshape((num_timesteps, num_particles, -1))\n",
    "\n",
    "fig, ax = plt.subplots(1, 1, figsize=(5, 5), facecolor=\"lightgray\")\n",
    "particles, = ax.plot([], [], 'bo', color='black', marker='o', markerfacecolor='white', linestyle='', markersize=15)\n",
    "\n",
    "plt.grid(which=\"major\", linewidth=0.3)\n",
    "plt.grid(which=\"minor\", linewidth=0.3)\n",
    "plt.minorticks_on()\n",
    "\n",
    "ax.set_xlim(0, 10)\n",
    "ax.set_ylim(0, 10)\n",
    "\n",
    "def init():\n",
    "    particles.set_data([], [])\n",
    "    return particles,\n",
    "\n",
    "def animate(i):\n",
    "    x = data[i, :, 1]\n",
    "    y = data[i, :, 2]\n",
    "    particles.set_data(x, y)\n",
    "    return particles,\n",
    "\n",
    "ani = animation.FuncAnimation(fig, animate, frames=num_timesteps, init_func=init, blit=True)\n",
    "ani = animation.FuncAnimation(fig, animate, frames=num_timesteps, init_func=init, blit=True)\n",
    "ani.save(graphs_path + 'tarefa-A/particle_simulation.gif', writer='imagemagick') # , dpi=DPI)\n",
    "\n",
    "plt.close()\n",
    "HTML(ani.to_html5_video())"
   ]
  },
  {
   "cell_type": "markdown",
   "metadata": {},
   "source": [
    "### Rastro"
   ]
  },
  {
   "cell_type": "code",
   "execution_count": 3,
   "metadata": {},
   "outputs": [
    {
     "data": {
      "image/png": "[encoded data removed]",
      "text/plain": [
       "<Figure size 800x800 with 1 Axes>"
      ]
     },
     "metadata": {},
     "output_type": "display_data"
    }
   ],
   "source": [
    "fname_positions = 'saidas/tarefa-A/evolucao-posicoes.dat'\n",
    "data = np.loadtxt(fname_positions)\n",
    "\n",
    "num_particles = N_particles\n",
    "num_timesteps = data.shape[0] // num_particles\n",
    "\n",
    "data = data.reshape((num_timesteps, num_particles, -1))\n",
    "\n",
    "fig, ax = plt.subplots(1, 1, figsize=(8, 8), facecolor=\"lightgray\")\n",
    "\n",
    "colors = plt.cm.jet(np.linspace(0, 1, num_particles))\n",
    "\n",
    "for i in range(num_particles):\n",
    "    x = data[:, i, 1]\n",
    "    y = data[:, i, 2]\n",
    "    ax.plot(x, y, 'o', markersize=4, color='black', markerfacecolor=colors[i], label=f'Particle {i+1}')\n",
    "\n",
    "plt.grid(which=\"major\", linewidth=0.3)\n",
    "plt.grid(which=\"minor\", linewidth=0.3)\n",
    "plt.minorticks_on()\n",
    "\n",
    "ax.set_xlim(0, 10)\n",
    "ax.set_ylim(0, 10)\n",
    "\n",
    "plt.savefig(graphs_path+'tarefa-A/rastro.png', bbox_inches = 'tight') # , dpi=DPI)\n",
    "# plt.show()"
   ]
  },
  {
   "cell_type": "code",
   "execution_count": 30,
   "metadata": {},
   "outputs": [
    {
     "data": {
      "image/png": "[encoded data removed]",
      "text/plain": [
       "<Figure size 500x500 with 1 Axes>"
      ]
     },
     "metadata": {},
     "output_type": "display_data"
    }
   ],
   "source": [
    "fname = \"saidas/tarefa-A/energia-total.dat\"\n",
    "data = np.loadtxt(fname)\n",
    "\n",
    "steps = data[:, 0]\n",
    "E = data[:, 1]\n",
    "\n",
    "fig , ax =  plt.subplots(1, 1, figsize=(5, 5), facecolor=\"lightgray\")\n",
    "\n",
    "font = {\n",
    "        'weight' : 'bold',\n",
    "        'size'   : 16}\n",
    "plt.rc('text', usetex=True)\n",
    "plt.rc('text.latex', preamble=r'\\usepackage{amsmath}')\n",
    "plt.rc('font', **font) \n",
    "\n",
    "\n",
    "plt.grid(which=\"major\", linewidth=0.3)\n",
    "plt.grid(which=\"minor\", linewidth=0.3)\n",
    "plt.minorticks_on()\n",
    "\n",
    "ax.plot(steps, E, label=f\"$E = T + \\\\mathcal\\\\{'U'}$\")\n",
    "\n",
    "ax.set_xlabel(\"Iteração\")\n",
    "ax.set_ylabel(f\"$E$\")\n",
    "plt.show()"
   ]
  },
  {
   "cell_type": "markdown",
   "metadata": {},
   "source": [
    "## Tests"
   ]
  },
  {
   "cell_type": "code",
   "execution_count": null,
   "metadata": {},
   "outputs": [],
   "source": [
    "import numpy as np\n",
    "import matplotlib.pyplot as plt\n",
    "import matplotlib.animation as animation\n",
    "\n",
    "# Read the data from the file\n",
    "filename = 'system_state.dat'\n",
    "data = np.loadtxt(filename)\n",
    "\n",
    "# Number of particles and time steps\n",
    "num_particles = 20\n",
    "num_timesteps = data.shape[0] // num_particles\n",
    "\n",
    "# Reshape the data to separate time steps and particles\n",
    "data = data.reshape((num_timesteps, num_particles, -1))\n",
    "\n",
    "# Set up the figure and axis\n",
    "fig, ax = plt.subplots(1, 1, figsize=(5,5), facecolor=\"lightgray\")\n",
    "particles, = ax.plot([], [], 'bo', color='black',marker='o',markerfacecolor='white',linestyle='',markersize=15)\n",
    "\n",
    "\n",
    "plt.grid(which = \"major\", linewidth = 0.3)\n",
    "plt.grid(which = \"minor\", linewidth = 0.3)\n",
    "plt.minorticks_on()\n",
    "\n",
    "# Set the limits of the plot\n",
    "ax.set_xlim(0, 10)  # Adjust according to your data range\n",
    "ax.set_ylim(0, 10)  # Adjust according to your data range\n",
    "\n",
    "\n",
    "def init():\n",
    "    \"\"\"Initialize the background of the plot.\"\"\"\n",
    "    particles.set_data([], [])\n",
    "    return particles,\n",
    "\n",
    "def animate(i):\n",
    "    \"\"\"Update the plot for each frame.\"\"\"\n",
    "    x = data[i, :, 0]\n",
    "    y = data[i, :, 1]\n",
    "    particles.set_data(x, y)\n",
    "    return particles,\n",
    "\n",
    "# Create the animation\n",
    "ani = animation.FuncAnimation(fig, animate, frames=num_timesteps, init_func=init, blit=True)\n",
    "\n",
    "# Save the animation as a GIF\n",
    "ani.save('particle_simulation.gif', writer='imagemagick', dpi=100)\n",
    "# ani.save('particle_simulation.mp4', writer='ffmpeg', dpi=DPI)"
   ]
  },
  {
   "cell_type": "code",
   "execution_count": 6,
   "metadata": {},
   "outputs": [
    {
     "name": "stderr",
     "output_type": "stream",
     "text": [
      "/tmp/ipykernel_64032/3116717930.py:15: UserWarning: marker is redundantly defined by the 'marker' keyword argument and the fmt string \"bo\" (-> marker='o'). The keyword argument will take precedence.\n",
      "  particles, = ax.plot([], [], [], 'bo', color='black', marker='o', markerfacecolor='white', linestyle='', markersize=8)\n",
      "/tmp/ipykernel_64032/3116717930.py:15: UserWarning: color is redundantly defined by the 'color' keyword argument and the fmt string \"bo\" (-> color='b'). The keyword argument will take precedence.\n",
      "  particles, = ax.plot([], [], [], 'bo', color='black', marker='o', markerfacecolor='white', linestyle='', markersize=8)\n",
      "MovieWriter imagemagick unavailable; using Pillow instead.\n"
     ]
    },
    {
     "data": {
      "image/png": "[encoded data removed]",
      "text/plain": [
       "<Figure size 800x800 with 1 Axes>"
      ]
     },
     "metadata": {},
     "output_type": "display_data"
    }
   ],
   "source": [
    "import numpy as np\n",
    "import matplotlib.pyplot as plt\n",
    "from matplotlib.animation import FuncAnimation\n",
    "\n",
    "filename = 'system_state.dat'\n",
    "data = np.loadtxt(filename)\n",
    "\n",
    "num_particles = 20\n",
    "num_timesteps = data.shape[0] // num_particles\n",
    "\n",
    "data = data.reshape((num_timesteps, num_particles, -1))\n",
    "\n",
    "fig = plt.figure(figsize=(8, 8))\n",
    "ax = fig.add_subplot(111, projection='3d', facecolor='lightgray')\n",
    "particles, = ax.plot([], [], [], 'bo', color='black', marker='o', markerfacecolor='blue', linestyle='', markersize=8)\n",
    "\n",
    "ax.set_xlim(0, 10)\n",
    "ax.set_ylim(0, 10)\n",
    "ax.set_zlim(0, 10)\n",
    "\n",
    "time_text = ax.text2D(0.35, 1.05, '', transform=ax.transAxes, fontsize=22, color='black')\n",
    "\n",
    "def init():\n",
    "    particles.set_data([], [])\n",
    "    particles.set_3d_properties([])\n",
    "    time_text.set_text('')\n",
    "    return particles, time_text\n",
    "\n",
    "def animate(i):\n",
    "    x = data[i, :, 0]\n",
    "    y = data[i, :, 1]\n",
    "    z = data[i, :, 2]\n",
    "    particles.set_data(x, y)\n",
    "    particles.set_3d_properties(z)\n",
    "    return particles, time_text\n",
    "\n",
    "ani = FuncAnimation(fig, animate, frames=num_timesteps, init_func=init, blit=True)\n",
    "ani.save('anim.gif', writer='imagemagick', dpi=80)"
   ]
  },
  {
   "cell_type": "markdown",
   "metadata": {},
   "source": [
    "## Tarefa B"
   ]
  },
  {
   "cell_type": "code",
   "execution_count": null,
   "metadata": {},
   "outputs": [
    {
     "data": {
      "text/plain": [
       "(array([[0.12018495, 0.        , 0.        , 0.        , 0.        ,\n",
       "         0.        , 0.        , 0.        , 0.        , 0.        ,\n",
       "         0.        , 0.        , 0.        , 0.        , 0.        ,\n",
       "         0.        , 0.        , 0.        , 0.        , 0.        ,\n",
       "         0.        , 0.        , 0.        , 0.        , 0.        ,\n",
       "         0.        , 0.        , 0.        , 0.        , 0.        ],\n",
       "        [0.12018495, 0.        , 0.        , 0.        , 0.        ,\n",
       "         0.        , 0.        , 0.        , 0.        , 0.        ,\n",
       "         0.        , 0.        , 0.        , 0.        , 0.        ,\n",
       "         0.        , 0.        , 0.        , 0.        , 0.        ,\n",
       "         0.        , 0.        , 0.        , 0.        , 0.        ,\n",
       "         0.        , 0.        , 0.        , 0.        , 0.        ],\n",
       "        [0.12018495, 0.        , 0.        , 0.        , 0.        ,\n",
       "         0.        , 0.        , 0.        , 0.        , 0.        ,\n",
       "         0.        , 0.        , 0.        , 0.        , 0.        ,\n",
       "         0.        , 0.        , 0.        , 0.        , 0.        ,\n",
       "         0.        , 0.        , 0.        , 0.        , 0.        ,\n",
       "         0.        , 0.        , 0.        , 0.        , 0.        ],\n",
       "        [0.12018495, 0.        , 0.        , 0.        , 0.        ,\n",
       "         0.        , 0.        , 0.        , 0.        , 0.        ,\n",
       "         0.        , 0.        , 0.        , 0.        , 0.        ,\n",
       "         0.        , 0.        , 0.        , 0.        , 0.        ,\n",
       "         0.        , 0.        , 0.        , 0.        , 0.        ,\n",
       "         0.        , 0.        , 0.        , 0.        , 0.        ],\n",
       "        [0.12018495, 0.        , 0.        , 0.        , 0.        ,\n",
       "         0.        , 0.        , 0.        , 0.        , 0.        ,\n",
       "         0.        , 0.        , 0.        , 0.        , 0.        ,\n",
       "         0.        , 0.        , 0.        , 0.        , 0.        ,\n",
       "         0.        , 0.        , 0.        , 0.        , 0.        ,\n",
       "         0.        , 0.        , 0.        , 0.        , 0.        ],\n",
       "        [0.12018495, 0.        , 0.        , 0.        , 0.        ,\n",
       "         0.        , 0.        , 0.        , 0.        , 0.        ,\n",
       "         0.        , 0.        , 0.        , 0.        , 0.        ,\n",
       "         0.        , 0.        , 0.        , 0.        , 0.        ,\n",
       "         0.        , 0.        , 0.        , 0.        , 0.        ,\n",
       "         0.        , 0.        , 0.        , 0.        , 0.        ],\n",
       "        [0.12018495, 0.        , 0.        , 0.        , 0.        ,\n",
       "         0.        , 0.        , 0.        , 0.        , 0.        ,\n",
       "         0.        , 0.        , 0.        , 0.        , 0.        ,\n",
       "         0.        , 0.        , 0.        , 0.        , 0.        ,\n",
       "         0.        , 0.        , 0.        , 0.        , 0.        ,\n",
       "         0.        , 0.        , 0.        , 0.        , 0.        ],\n",
       "        [0.12018495, 0.        , 0.        , 0.        , 0.        ,\n",
       "         0.        , 0.        , 0.        , 0.        , 0.        ,\n",
       "         0.        , 0.        , 0.        , 0.        , 0.        ,\n",
       "         0.        , 0.        , 0.        , 0.        , 0.        ,\n",
       "         0.        , 0.        , 0.        , 0.        , 0.        ,\n",
       "         0.        , 0.        , 0.        , 0.        , 0.        ],\n",
       "        [0.11782838, 0.        , 0.        , 0.        , 0.        ,\n",
       "         0.        , 0.        , 0.        , 0.        , 0.        ,\n",
       "         0.        , 0.        , 0.        , 0.        , 0.        ,\n",
       "         0.        , 0.        , 0.        , 0.        , 0.        ,\n",
       "         0.        , 0.        , 0.        , 0.        , 0.        ,\n",
       "         0.        , 0.        , 0.        , 0.        , 0.00235657],\n",
       "        [0.11782838, 0.        , 0.        , 0.        , 0.        ,\n",
       "         0.        , 0.        , 0.        , 0.        , 0.        ,\n",
       "         0.        , 0.        , 0.        , 0.        , 0.        ,\n",
       "         0.        , 0.        , 0.        , 0.        , 0.        ,\n",
       "         0.        , 0.        , 0.        , 0.        , 0.        ,\n",
       "         0.        , 0.        , 0.        , 0.        , 0.00235657],\n",
       "        [0.11782838, 0.        , 0.        , 0.        , 0.        ,\n",
       "         0.        , 0.        , 0.        , 0.        , 0.        ,\n",
       "         0.        , 0.        , 0.        , 0.        , 0.        ,\n",
       "         0.        , 0.        , 0.        , 0.        , 0.        ,\n",
       "         0.        , 0.        , 0.        , 0.        , 0.        ,\n",
       "         0.        , 0.        , 0.        , 0.        , 0.00235657],\n",
       "        [0.11782838, 0.        , 0.        , 0.        , 0.        ,\n",
       "         0.        , 0.        , 0.        , 0.        , 0.        ,\n",
       "         0.        , 0.        , 0.        , 0.        , 0.        ,\n",
       "         0.        , 0.        , 0.        , 0.        , 0.        ,\n",
       "         0.        , 0.        , 0.        , 0.        , 0.        ,\n",
       "         0.        , 0.        , 0.        , 0.        , 0.00235657],\n",
       "        [0.12018495, 0.        , 0.        , 0.        , 0.        ,\n",
       "         0.        , 0.        , 0.        , 0.        , 0.        ,\n",
       "         0.        , 0.        , 0.        , 0.        , 0.        ,\n",
       "         0.        , 0.        , 0.        , 0.        , 0.        ,\n",
       "         0.        , 0.        , 0.        , 0.        , 0.        ,\n",
       "         0.        , 0.        , 0.        , 0.        , 0.        ],\n",
       "        [0.12018495, 0.        , 0.        , 0.        , 0.        ,\n",
       "         0.        , 0.        , 0.        , 0.        , 0.        ,\n",
       "         0.        , 0.        , 0.        , 0.        , 0.        ,\n",
       "         0.        , 0.        , 0.        , 0.        , 0.        ,\n",
       "         0.        , 0.        , 0.        , 0.        , 0.        ,\n",
       "         0.        , 0.        , 0.        , 0.        , 0.        ],\n",
       "        [0.12018495, 0.        , 0.        , 0.        , 0.        ,\n",
       "         0.        , 0.        , 0.        , 0.        , 0.        ,\n",
       "         0.        , 0.        , 0.        , 0.        , 0.        ,\n",
       "         0.        , 0.        , 0.        , 0.        , 0.        ,\n",
       "         0.        , 0.        , 0.        , 0.        , 0.        ,\n",
       "         0.        , 0.        , 0.        , 0.        , 0.        ],\n",
       "        [0.12018495, 0.        , 0.        , 0.        , 0.        ,\n",
       "         0.        , 0.        , 0.        , 0.        , 0.        ,\n",
       "         0.        , 0.        , 0.        , 0.        , 0.        ,\n",
       "         0.        , 0.        , 0.        , 0.        , 0.        ,\n",
       "         0.        , 0.        , 0.        , 0.        , 0.        ,\n",
       "         0.        , 0.        , 0.        , 0.        , 0.        ],\n",
       "        [0.12018495, 0.        , 0.        , 0.        , 0.        ,\n",
       "         0.        , 0.        , 0.        , 0.        , 0.        ,\n",
       "         0.        , 0.        , 0.        , 0.        , 0.        ,\n",
       "         0.        , 0.        , 0.        , 0.        , 0.        ,\n",
       "         0.        , 0.        , 0.        , 0.        , 0.        ,\n",
       "         0.        , 0.        , 0.        , 0.        , 0.        ],\n",
       "        [0.12018495, 0.        , 0.        , 0.        , 0.        ,\n",
       "         0.        , 0.        , 0.        , 0.        , 0.        ,\n",
       "         0.        , 0.        , 0.        , 0.        , 0.        ,\n",
       "         0.        , 0.        , 0.        , 0.        , 0.        ,\n",
       "         0.        , 0.        , 0.        , 0.        , 0.        ,\n",
       "         0.        , 0.        , 0.        , 0.        , 0.        ],\n",
       "        [0.12018495, 0.        , 0.        , 0.        , 0.        ,\n",
       "         0.        , 0.        , 0.        , 0.        , 0.        ,\n",
       "         0.        , 0.        , 0.        , 0.        , 0.        ,\n",
       "         0.        , 0.        , 0.        , 0.        , 0.        ,\n",
       "         0.        , 0.        , 0.        , 0.        , 0.        ,\n",
       "         0.        , 0.        , 0.        , 0.        , 0.        ],\n",
       "        [0.12018495, 0.        , 0.        , 0.        , 0.        ,\n",
       "         0.        , 0.        , 0.        , 0.        , 0.        ,\n",
       "         0.        , 0.        , 0.        , 0.        , 0.        ,\n",
       "         0.        , 0.        , 0.        , 0.        , 0.        ,\n",
       "         0.        , 0.        , 0.        , 0.        , 0.        ,\n",
       "         0.        , 0.        , 0.        , 0.        , 0.        ]]),\n",
       " array([9.47617052e-03, 8.32998557e+00, 1.66504950e+01, 2.49710044e+01,\n",
       "        3.32915138e+01, 4.16120232e+01, 4.99325326e+01, 5.82530420e+01,\n",
       "        6.65735514e+01, 7.48940608e+01, 8.32145702e+01, 9.15350796e+01,\n",
       "        9.98555890e+01, 1.08176098e+02, 1.16496608e+02, 1.24817117e+02,\n",
       "        1.33137627e+02, 1.41458136e+02, 1.49778645e+02, 1.58099155e+02,\n",
       "        1.66419664e+02, 1.74740174e+02, 1.83060683e+02, 1.91381192e+02,\n",
       "        1.99701702e+02, 2.08022211e+02, 2.16342721e+02, 2.24663230e+02,\n",
       "        2.32983739e+02, 2.41304249e+02, 2.49624758e+02]),\n",
       " <a list of 20 BarContainer objects>)"
      ]
     },
     "execution_count": 44,
     "metadata": {},
     "output_type": "execute_result"
    },
    {
     "data": {
      "image/png": "[encoded data removed]",
      "text/plain": [
       "<Figure size 640x480 with 1 Axes>"
      ]
     },
     "metadata": {},
     "output_type": "display_data"
    }
   ],
   "source": [
    "data = np.loadtxt(\"saidas/tarefa-B/velocidades.dat\")\n",
    "\n",
    "num_particles = 20\n",
    "num_timesteps = data.shape[0] // num_particles\n",
    "\n",
    "data = data.reshape((num_timesteps, num_particles, -1))\n",
    "v = data[:, :, 0]\n",
    "# velocities = data[:, :, 0].flatten() \n",
    "\n",
    "plt.hist(v, bins=30, density=True, alpha=0.4)"
   ]
  },
  {
   "cell_type": "markdown",
   "metadata": {},
   "source": [
    "- Gerando distribuição de Maxwell-Boltzmann"
   ]
  },
  {
   "cell_type": "code",
   "execution_count": null,
   "metadata": {},
   "outputs": [],
   "source": [
    "v = np.arange(0,3,0.01)\n",
    "kT = 0.7\n",
    "nBins = 30\n",
    "P_v = v/kT*np.exp(-v**2/2/kT)"
   ]
  },
  {
   "cell_type": "code",
   "execution_count": null,
   "metadata": {},
   "outputs": [
    {
     "name": "stderr",
     "output_type": "stream",
     "text": [
      "<>:4: SyntaxWarning: invalid escape sequence '\\s'\n",
      "<>:4: SyntaxWarning: invalid escape sequence '\\s'\n",
      "/tmp/ipykernel_79252/403016666.py:4: SyntaxWarning: invalid escape sequence '\\s'\n",
      "  plt.plot(v, P_v, label=\"$P(v) \\sim \\\\frac{v^2}{k_B T} \\\\exp\\\\left(-\\\\frac{mv^2}{2k_B T}\\\\right)$\")\n"
     ]
    },
    {
     "data": {
      "text/plain": [
       "<matplotlib.legend.Legend at 0x72aa1d58e7e0>"
      ]
     },
     "execution_count": 180,
     "metadata": {},
     "output_type": "execute_result"
    },
    {
     "data": {
      "image/png": "[encoded data removed]",
      "text/plain": [
       "<Figure size 500x500 with 1 Axes>"
      ]
     },
     "metadata": {},
     "output_type": "display_data"
    }
   ],
   "source": [
    "fig, ax = plt.subplots(1, 1, figsize=(5, 5), facecolor=\"lightgray\")\n",
    "plt.xlabel(\"$v$\")\n",
    "plt.ylabel(\"$P(v)$\")\n",
    "plt.plot(v, P_v, label=\"$P(v) \\sim \\\\frac{v^2}{k_B T} \\\\exp\\\\left(-\\\\frac{mv^2}{2k_B T}\\\\right)$\")\n",
    "plt.xlim([0, 2.5])\n",
    "plt.legend()"
   ]
  },
  {
   "cell_type": "code",
   "execution_count": null,
   "metadata": {},
   "outputs": [],
   "source": [
    "data = np.loadtxt(\"saidas/tarefa-B/velocidades.dat\")\n",
    "\n",
    "num_particles = 20\n",
    "n_steps = data.shape[0] // num_particles\n",
    "data = data.reshape((n_steps, num_particles, 3))\n",
    "\n",
    "v_mag1 = data[0, :, 0].flatten() \n",
    "v_mag2 = data[30, :, 0].flatten()\n",
    "v_mag3 = data[40, :, 0].flatten()"
   ]
  },
  {
   "cell_type": "markdown",
   "metadata": {},
   "source": [
    "## Tarefa C"
   ]
  },
  {
   "cell_type": "markdown",
   "metadata": {},
   "source": [
    "## Tarefa D "
   ]
  },
  {
   "cell_type": "markdown",
   "metadata": {},
   "source": [
    "## Tarefa E"
   ]
  },
  {
   "cell_type": "markdown",
   "metadata": {},
   "source": [
    "## Tarefa F"
   ]
  }
 ],
 "metadata": {
  "kernelspec": {
   "display_name": "Python 3",
   "language": "python",
   "name": "python3"
  },
  "language_info": {
   "codemirror_mode": {
    "name": "ipython",
    "version": 3
   },
   "file_extension": ".py",
   "mimetype": "text/x-python",
   "name": "python",
   "nbconvert_exporter": "python",
   "pygments_lexer": "ipython3",
   "version": "3.12.3"
  }
 },
 "nbformat": 4,
 "nbformat_minor": 2
}
