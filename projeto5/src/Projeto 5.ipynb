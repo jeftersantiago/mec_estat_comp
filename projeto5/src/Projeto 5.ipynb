{
 "cells": [
  {
   "cell_type": "markdown",
   "metadata": {},
   "source": [
    "# Entendendo modelo de Ising"
   ]
  },
  {
   "cell_type": "markdown",
   "metadata": {},
   "source": [
    "- Oferece uma descrição de momento magnetico nuclear (spins) de dois estados +1 ou -1.\n",
    "- Queremos utilizar o modelo de Ising para estudar as transições de fase e simulações de monte carlo.\n"
   ]
  },
  {
   "cell_type": "markdown",
   "metadata": {},
   "source": [
    "Pensando no spin como o momento magnético do sistema é esperado que situações em que os spins estejam todos alinhados correspondam ao máximo e minímo de magnetização.\n",
    "\n",
    "**(ADICIONAR AQUI DISCUSSÃO SOBRE DISTRIBUIÇÃO DE BOLTZMANN E AS ESCALAS J E $K_B T$ \"COMPETIREM\")**"
   ]
  },
  {
   "cell_type": "markdown",
   "metadata": {},
   "source": [
    "Nesse projeto estamos estudando o modelo de Ising como um grafo plano $2$-d mas poderiamos adotar outras geometrias.\n",
    "\n",
    "Podemos definir os possíveis estados de cada sítio como $\\sigma_k = \\{-1, +1\\}$. Trabalhamos simplesmente com uma malha $2$-d em que cada sítio pode estar em um dos estados $\\sigma_k$. \n",
    "\n",
    "Nesse modelo trabalhamos apenas com iterações entre os vizinhos mais próximos de cada sítio, ou seja, os que estão adjacentes à esquerda, cima, direita e abaixo.  \n",
    "\n",
    "O hamiltoniano que descreve a energia desse sistema é então:\n",
    "\n",
    "$$\n",
    "    \\hat{H} = -\\frac{J}{2} \\sum_{i = 1}^{L} \\sum_{j = 1}^{L} s(i ,j)  \\left[ S_1 + S_2 + S_3 + S_4\\right] \n",
    "    \\Longrightarrow\n",
    "    \\begin{cases}\n",
    "    S_1 = s(i-1, j) \\\\ S_2 = s(i+1, j)\\\\ S_3 = s(i, j-1) \\\\ S_4 = s(i, j+1)\n",
    "    \\end{cases}\n",
    "$$"
   ]
  },
  {
   "cell_type": "markdown",
   "metadata": {},
   "source": [
    "Por simplicidade adotamos apenas malhas quadradas então o tamanho em $x$ e $y$ é o mesmo: $L$.\n",
    "\n"
   ]
  },
  {
   "cell_type": "markdown",
   "metadata": {},
   "source": [
    "A magnetização é uma grandeza relacionada à _desordem__ do sistema de spins e é dada por \n",
    "$$ m = \\frac{M}{N} = \\frac{1}{N} \\sum_{i = 1}^{N} \\sum_{j = 1}^{N} s(i, j)$$\n",
    "\n",
    "Dessa forma, se $T = 0$ as únicas possíbilidades de valor para $m$ são $-1$ ou $1$ (ou seja, basta olhar para um sítio para saber a configuração de toda malha). Para $T \\to \\infty$ as configurações podem ser mais complicadas. \n",
    "\n",
    "\n",
    "Então para uma dada temperatura $T$ a _magnetização_ média é \n",
    "\n",
    "$$ \n",
    "    \\langle m \\rangle = \\langle \\frac{M}{N} \\rangle = \\frac{1}{N} \\bigg\\langle \\sum_{i, j}^{N} s(i, j) \\bigg\\rangle\n",
    "$$"
   ]
  },
  {
   "cell_type": "markdown",
   "metadata": {},
   "source": [
    "A probabilidade dos spins estarem em uma configuração de energia $E$ é proporcional à $e^{\\beta E}$ (fator de Boltzmann). Como $\\beta = \\frac{1}{K_B T}$ temos que, para $J \\gg K_B T$ a temperatura é baixa, a energia é alta e a probabilidade será de que poucos spins estariam opostos aos outros. Já se $K_B T \\gg J$ a temperatura é alta e haverá maior desordem no sistema."
   ]
  },
  {
   "cell_type": "markdown",
   "metadata": {},
   "source": [
    "Para cada configuração $\\{s(i, j)\\}$ existe uma energia associada pela $\\hat{H}$ e uma probabilidade dessa energia ocorrer dada por $P(E) \\propto e^{\\beta E}$.\n"
   ]
  },
  {
   "cell_type": "markdown",
   "metadata": {},
   "source": [
    "Motivação para usar simulação de Monte Carlo: No cálculo $\\langle m(T) \\rangle$ temos que percorrer todo um espaço de estados possíveis de tamanho $2^{N^2}$. "
   ]
  },
  {
   "cell_type": "markdown",
   "metadata": {},
   "source": [
    "# Entendendo simulação de Monte Carlo"
   ]
  },
  {
   "cell_type": "markdown",
   "metadata": {},
   "source": [
    "-   Definimos temperatura final desejada $T$ onde $\\beta = \\frac{1}{K_B T}$.\n",
    "-   Escolhemos um número de passos total para dinâmica de Monte Carlo.\n",
    "-   Inicializa todos spins da malha.\n",
    "-   Performa dinâmica de Monte Carlo pela malha:\n",
    "\n",
    "\n",
    "    -   Percorre todas as linhas e colunas da malha ou percorre sítios individuais\n",
    "        aleatoriamente.\n",
    "    -   Para cada sítio calcula a probabilidade flipar o spin do sítio, ou seja, \n",
    "    $P(s)$ ou $P(-s)$ onde \n",
    "        $$ P(s) = \\frac{e^{\\beta s M}}{e^{-\\beta s M} + e^{\\beta s M}}; P(-s) = \\frac{e^{-\\beta s M}}{e^{\\beta s M} + e^{-\\beta s M}}$$\n",
    "        com $M = J \\left[s(i-1, j)+s(i+1,j)+s(i,j-1)+s(i,j+1)\\right]$\n",
    "\n",
    "    - Se o spin mudar, atualizar o valor da magnetização atual $m$ e a energia total $E$, que são nossas\n",
    "    quantidades de interesse.\n",
    "\n",
    "-   Quando o sistema atinge equilíbrio, após $N_m$ iterações de Monte Carlo, começamos a tirar médias das quantidades. Para determinar se atingiu um ponto de equilíbrio podemos definir uma variação mínima aceitável entre alguma das grandezas como magnetização ou energia.\n",
    "    \n",
    "\n",
    "    "
   ]
  },
  {
   "cell_type": "markdown",
   "metadata": {},
   "source": []
  },
  {
   "cell_type": "markdown",
   "metadata": {},
   "source": []
  },
  {
   "cell_type": "markdown",
   "metadata": {},
   "source": []
  },
  {
   "cell_type": "markdown",
   "metadata": {},
   "source": []
  },
  {
   "cell_type": "markdown",
   "metadata": {},
   "source": []
  },
  {
   "cell_type": "markdown",
   "metadata": {},
   "source": []
  },
  {
   "cell_type": "markdown",
   "metadata": {},
   "source": [
    "Energia em cada sítio depende apenas dos vizinhos e pode ser calculada inicialmente por\n",
    "$$E_i = E_0  + J \\cdot s(i, j) \\cdot (S_1 + S_2+ S_3 + S_4)$$\n",
    "\n",
    "A energia após uma interação de Monte Carlo é \n",
    "\n",
    "$$ E_f = E_0 - J\\cdot s(i,j) \\cdot (S_1 + S_2 + S_3 + S_4) $$\n",
    "\n",
    "onde $E_0$ é o termo da energia que não depende do spin $s(i, j)$.\n",
    "\n",
    "Chamando o termo $\\hat{H}_M = J (S_1 + S_2 + S_3 + S_4)$ de campo molecular.\n",
    "\n",
    "Sabemos que $P(E_i) + P(E_f) = 1$, então \n",
    "\n",
    "$$ P(E_i) = \\frac{e^{-\\beta E_i}}{e^{-\\beta E_i} + e^{-\\beta E_f}} \\\\ P(E_f) = \\frac{e^{-\\beta E_f}}{e^{-\\beta E_f} + e^{-\\beta E_f} }$$\n",
    "\n",
    "Passando a trabalhar com probabilidade de spin ao invés de energia, definimos, assim como antes:\n",
    "\n",
    "\n",
    "Probabilidade $P(s)$ de um spin $s(i, j)$ permaneça com o mesmo valor é \n",
    "\n",
    "$$\n",
    "P(s) = \\frac{e^{\\beta s \\hat{H}_m}}{e^{\\beta s \\hat{H}_m} + e^{-\\beta s \\hat{H}_m}}$$\n",
    "\n",
    "Probabilidade que um spin mude é $P(-s)$ :\n",
    "\n",
    "$$\n",
    "P(-s) = \\frac{e^{-\\beta s \\hat{H}_m}}{e^{-\\beta s \\hat{H}_m}  + e^{\\beta s \\hat{H}_m}}$$ "
   ]
  }
 ],
 "metadata": {
  "kernelspec": {
   "display_name": "Python 3",
   "language": "python",
   "name": "python3"
  },
  "language_info": {
   "name": "python",
   "version": "3.12.3"
  }
 },
 "nbformat": 4,
 "nbformat_minor": 2
}
